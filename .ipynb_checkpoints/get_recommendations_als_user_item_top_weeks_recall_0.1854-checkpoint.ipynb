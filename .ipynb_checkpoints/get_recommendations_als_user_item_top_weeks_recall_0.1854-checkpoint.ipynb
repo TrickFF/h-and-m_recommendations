{
 "cells": [
  {
   "cell_type": "code",
   "execution_count": 1,
   "id": "b3b1eac7",
   "metadata": {},
   "outputs": [],
   "source": [
    "import pandas as pd\n",
    "import numpy as np\n",
    "from joblib import dump, load\n",
    "\n",
    "from numba import jit, typeof, typed, types, prange\n",
    "\n",
    "from implicit.gpu.als import AlternatingLeastSquares\n",
    "from implicit.nearest_neighbours import ItemItemRecommender\n",
    "from implicit.nearest_neighbours import bm25_weight, tfidf_weight\n",
    "\n",
    "from scipy.sparse import csr_matrix, coo_matrix\n",
    "\n",
    "from rec_lib.utils import prefilter_items, rec_sort, rec_len_check, recall, recall_at_k, isin\n",
    "from rec_lib.utils import get_recommendations, precision_at_k, ap_k, get_sim_users\n",
    "\n",
    "import warnings\n",
    "warnings.filterwarnings(\"ignore\")"
   ]
  },
  {
   "cell_type": "code",
   "execution_count": 2,
   "id": "010f949d",
   "metadata": {},
   "outputs": [],
   "source": [
    "%load_ext autoreload\n",
    "%autoreload 2"
   ]
  },
  {
   "cell_type": "markdown",
   "id": "e4503dd6",
   "metadata": {},
   "source": [
    "# Получение рекомендаций"
   ]
  },
  {
   "cell_type": "code",
   "execution_count": 3,
   "id": "3eda307f",
   "metadata": {},
   "outputs": [],
   "source": [
    "df_transactions = pd.read_parquet('archive/transactions_train_for_power_bi.parquet')"
   ]
  },
  {
   "cell_type": "markdown",
   "id": "63f4118f",
   "metadata": {},
   "source": [
    "### Разделим данные на train/test и validation"
   ]
  },
  {
   "cell_type": "code",
   "execution_count": 4,
   "id": "f593b82f",
   "metadata": {},
   "outputs": [
    {
     "data": {
      "text/plain": [
       "week_number\n",
       "1      5\n",
       "2      7\n",
       "3      7\n",
       "4      7\n",
       "5      7\n",
       "      ..\n",
       "101    7\n",
       "102    7\n",
       "103    7\n",
       "104    7\n",
       "105    2\n",
       "Name: t_dat, Length: 105, dtype: int64"
      ]
     },
     "execution_count": 4,
     "metadata": {},
     "output_type": "execute_result"
    }
   ],
   "source": [
    "df_transactions.groupby(['week_number'])['t_dat'].nunique()"
   ]
  },
  {
   "cell_type": "code",
   "execution_count": 5,
   "id": "39d00cf4",
   "metadata": {},
   "outputs": [],
   "source": [
    "'''\n",
    "Для бейзлайна в качестве валидации возьмем 104 неделю (38 неделя года), т.к. 105 неполная,\n",
    "103 (37 неделя года) - test, в качестве трейна - весь предыдущий период\n",
    "'''\n",
    "validation = df_transactions.loc[df_transactions['week_number'] == 104]\n",
    "test = df_transactions.loc[df_transactions['week_number'] == 103]\n",
    "train = df_transactions.loc[df_transactions['week_number'] < 103]"
   ]
  },
  {
   "cell_type": "code",
   "execution_count": 6,
   "id": "bf6043a0",
   "metadata": {},
   "outputs": [
    {
     "name": "stdout",
     "output_type": "stream",
     "text": [
      "CPU times: user 12.7 s, sys: 1.11 s, total: 13.8 s\n",
      "Wall time: 13.8 s\n"
     ]
    }
   ],
   "source": [
    "%%time\n",
    "# train = prefilter_items(train, n_popular_limit=500, item_features=None)\n",
    "train = train.sort_values(['customer_id_short', 'article_id_short']).reset_index(drop = True)"
   ]
  },
  {
   "cell_type": "code",
   "execution_count": 7,
   "id": "b735f6b5",
   "metadata": {},
   "outputs": [
    {
     "name": "stdout",
     "output_type": "stream",
     "text": [
      "В трейне - 1343966 покупателей\n",
      "В тесте - 76528 покупателей\n",
      "Покупателей из теста нет в трейне - 5870\n"
     ]
    }
   ],
   "source": [
    "# Проверим сколько пользователей из трейна отсутствует в тесте\n",
    "print(f\"В трейне - {len(set(train['customer_id_short']))} покупателей\\n\\\n",
    "В тесте - {len(set(test['customer_id_short']))} покупателей\\n\\\n",
    "Покупателей из теста нет в трейне - {len(set(test['customer_id_short']) - set(train['customer_id_short']))}\")"
   ]
  },
  {
   "cell_type": "code",
   "execution_count": 8,
   "id": "9adee178",
   "metadata": {},
   "outputs": [],
   "source": [
    "# Создадим df в котором будут фактические данные теста, сюда потом добавим предсказания\n",
    "result = test.groupby('customer_id_short')['article_id_short'].unique().reset_index()\n",
    "result.columns=['customer_id_short', 'actual_article_id_short']"
   ]
  },
  {
   "cell_type": "code",
   "execution_count": 9,
   "id": "feb8a615",
   "metadata": {},
   "outputs": [],
   "source": [
    "popularity = train.groupby('article_id_short')['values'].sum().reset_index()\n",
    "popularity = popularity.sort_values('values', ascending=False)"
   ]
  },
  {
   "cell_type": "code",
   "execution_count": 10,
   "id": "418433bd",
   "metadata": {},
   "outputs": [],
   "source": [
    "sim_weeks_articles = train.loc[train['week_number_of_year'].isin([36])]\n",
    "sim_weeks_articles = sim_weeks_articles.groupby('article_id_short')['values'].sum().reset_index()\n",
    "sim_weeks_articles = sim_weeks_articles.sort_values('values', ascending=False)"
   ]
  },
  {
   "cell_type": "code",
   "execution_count": 11,
   "id": "c001caad",
   "metadata": {},
   "outputs": [],
   "source": [
    "# num top sim_weeks articles\n",
    "K = 1300\n",
    "\n",
    "# top_articles = popularity.iloc[:N]['article_id_short'].values\n",
    "# top_articles_set = set(popularity.iloc[:K]['article_id_short'].values)\n",
    "top_sim_weeks_articles_nb = typed.List(set(sim_weeks_articles.iloc[:K]['article_id_short'].values))"
   ]
  },
  {
   "cell_type": "code",
   "execution_count": 12,
   "id": "7d524198",
   "metadata": {},
   "outputs": [
    {
     "name": "stdout",
     "output_type": "stream",
     "text": [
      "CPU times: user 669 ms, sys: 79.7 ms, total: 749 ms\n",
      "Wall time: 748 ms\n"
     ]
    }
   ],
   "source": [
    "%%time\n",
    "# создаем массив использованных article_id\n",
    "used_article_id_short = sorted(np.array(train['article_id_short'].unique()))\n",
    "article_id_for_dict = np.arange(0,len(used_article_id_short))\n",
    "\n",
    "# Создаем справочники users и items для более быстрой работы кода\n",
    "used_itemid_to_id = dict(zip(used_article_id_short, article_id_for_dict))\n",
    "id_to_used_itemid = dict(zip(article_id_for_dict, used_article_id_short))\n",
    "\n",
    "\n",
    "# создаем массив использованных customer_id_short\n",
    "used_user_id_short = sorted(np.array(train['customer_id_short'].unique()))\n",
    "user_id_for_dict = np.arange(0,len(used_user_id_short))\n",
    "\n",
    "# Создаем справочники users и items для более быстрой работы кода\n",
    "used_userid_to_id = dict(zip(used_user_id_short, user_id_for_dict))\n",
    "id_to_used_userid = dict(zip(user_id_for_dict, used_user_id_short))"
   ]
  },
  {
   "cell_type": "code",
   "execution_count": 13,
   "id": "701b04e0",
   "metadata": {},
   "outputs": [
    {
     "name": "stdout",
     "output_type": "stream",
     "text": [
      "CPU times: user 864 ms, sys: 8.06 ms, total: 872 ms\n",
      "Wall time: 876 ms\n"
     ]
    }
   ],
   "source": [
    "%%time\n",
    "# numba dict for recommeddation\n",
    "id_to_used_itemid_nb = typed.Dict.empty(types.int64,types.int64)\n",
    "\n",
    "for k, v in id_to_used_itemid.items():\n",
    "    id_to_used_itemid_nb[k] = v"
   ]
  },
  {
   "cell_type": "code",
   "execution_count": 14,
   "id": "3d4e2993",
   "metadata": {},
   "outputs": [
    {
     "name": "stdout",
     "output_type": "stream",
     "text": [
      "CPU times: user 9.9 s, sys: 251 ms, total: 10.2 s\n",
      "Wall time: 10.2 s\n"
     ]
    }
   ],
   "source": [
    "%%time\n",
    "# получаем массивы для построения разряженной матрицы по координатам ненулевых элементов\n",
    "user_id_short_arr_for_matrix = train.customer_id_short.values\n",
    "user_id_short_arr_for_matrix = np.array([used_userid_to_id[el] for el in user_id_short_arr_for_matrix])\n",
    "\n",
    "article_id_short_arr_for_matrix = train.article_id_short.values\n",
    "article_id_short_arr_for_matrix = np.array([used_itemid_to_id[el] for el in article_id_short_arr_for_matrix])\n",
    "\n",
    "article_user_counter_for_matrix = train['values'].values.astype(np.float64)"
   ]
  },
  {
   "cell_type": "code",
   "execution_count": 15,
   "id": "3a7fe2bd",
   "metadata": {},
   "outputs": [
    {
     "name": "stdout",
     "output_type": "stream",
     "text": [
      "CPU times: user 249 ms, sys: 9.72 ms, total: 259 ms\n",
      "Wall time: 258 ms\n"
     ]
    }
   ],
   "source": [
    "%%time\n",
    "# Создаем разряженную матриуц по координатам ненулевых элементов\n",
    "coo = coo_matrix((article_user_counter_for_matrix, (user_id_short_arr_for_matrix, article_id_short_arr_for_matrix)))"
   ]
  },
  {
   "cell_type": "code",
   "execution_count": 16,
   "id": "b79b0b72",
   "metadata": {},
   "outputs": [],
   "source": [
    "# Приведем матрицу в нужный формат для модели и произведем взвешивание bm25\n",
    "custom_sparse_user_item = csr_matrix(coo).tocsr()\n",
    "custom_bm25_user_item_matrix = bm25_weight(custom_sparse_user_item.T).T.tocsr()"
   ]
  },
  {
   "cell_type": "code",
   "execution_count": 17,
   "id": "60fd6363",
   "metadata": {},
   "outputs": [
    {
     "name": "stdout",
     "output_type": "stream",
     "text": [
      "CPU times: user 2min 14s, sys: 504 ms, total: 2min 14s\n",
      "Wall time: 2min 16s\n"
     ]
    }
   ],
   "source": [
    "%%time\n",
    "\n",
    "# GPU ALS\n",
    "als = AlternatingLeastSquares(factors=60,\n",
    "                regularization=0.8,\n",
    "                iterations=3,\n",
    "                calculate_training_loss=True,\n",
    "                random_state=42)\n",
    "\n",
    "als.fit(custom_bm25_user_item_matrix, show_progress=False)"
   ]
  },
  {
   "cell_type": "code",
   "execution_count": 18,
   "id": "08741e75",
   "metadata": {},
   "outputs": [
    {
     "name": "stdout",
     "output_type": "stream",
     "text": [
      "CPU times: user 46.2 s, sys: 5.65 s, total: 51.8 s\n",
      "Wall time: 5.59 s\n"
     ]
    }
   ],
   "source": [
    "%%time\n",
    "\n",
    "# Количество потоков процессора для обучения\n",
    "NUM_THREADS = 16\n",
    "\n",
    "# Own recommender\n",
    "own_recommender = ItemItemRecommender(K=1, num_threads=NUM_THREADS)\n",
    "own_recommender.fit(custom_sparse_user_item, show_progress=False)"
   ]
  },
  {
   "cell_type": "markdown",
   "id": "a35a986d",
   "metadata": {},
   "source": [
    "### Найдем похожих покупателей"
   ]
  },
  {
   "cell_type": "code",
   "execution_count": 19,
   "id": "56906dd7",
   "metadata": {},
   "outputs": [
    {
     "name": "stdout",
     "output_type": "stream",
     "text": [
      "CPU times: user 7min 48s, sys: 5.41 s, total: 7min 54s\n",
      "Wall time: 7min 53s\n"
     ]
    }
   ],
   "source": [
    "%%time\n",
    "# количество похожих покупателей\n",
    "N_USERS = 500\n",
    "\n",
    "result[f'sim_users'] = result['customer_id_short'].map(lambda x: get_sim_users(x, used_userid_to_id, id_to_used_userid, als, N_USERS))"
   ]
  },
  {
   "cell_type": "code",
   "execution_count": 39,
   "id": "4efa10ce",
   "metadata": {},
   "outputs": [
    {
     "name": "stdout",
     "output_type": "stream",
     "text": [
      "CPU times: user 3h 23min 57s, sys: 4min 23s, total: 3h 28min 21s\n",
      "Wall time: 3h 28min 12s\n"
     ]
    }
   ],
   "source": [
    "%%time\n",
    "# rec before ranking\n",
    "N = 500\n",
    "\n",
    "result[f'own_rec'] = result.apply(lambda row: get_recommendations(row['customer_id_short'], row['sim_users'], als, own_recommender, used_userid_to_id, used_itemid_to_id, custom_sparse_user_item, id_to_used_itemid_nb, top_sim_weeks_articles_nb, N), axis=1)\n",
    "# result_list = [get_recommendations(result.iloc[i]['customer_id_short'], result.iloc[i]['sim_users'], als, own_recommender, used_userid_to_id, used_itemid_to_id, custom_sparse_user_item, id_to_used_itemid_nb, top_sim_weeks_articles_nb, N) for i in range(1000)]"
   ]
  },
  {
   "cell_type": "code",
   "execution_count": 40,
   "id": "eb0373cc",
   "metadata": {},
   "outputs": [
    {
     "name": "stdout",
     "output_type": "stream",
     "text": [
      "Recall_own_rec:  0.18546809308615347\n"
     ]
    }
   ],
   "source": [
    "print('Recall_own_rec: ', result.apply(lambda row: recall(row['own_rec'], row['actual_article_id_short']), axis=1).mean())"
   ]
  },
  {
   "cell_type": "code",
   "execution_count": 47,
   "id": "34731000",
   "metadata": {},
   "outputs": [],
   "source": [
    "# result_list = np.array(result[f'own_rec'])"
   ]
  },
  {
   "cell_type": "code",
   "execution_count": 48,
   "id": "e313aba3",
   "metadata": {},
   "outputs": [],
   "source": [
    "# %%time\n",
    "# for i, el in enumerate(result_list):\n",
    "#     if len(el) != 500:\n",
    "#         print(i, len(el))"
   ]
  },
  {
   "cell_type": "code",
   "execution_count": 44,
   "id": "bc5a7783",
   "metadata": {},
   "outputs": [],
   "source": [
    "def col_convert(val):\n",
    "    if type(val) is not list:\n",
    "        return list(val)#.tolist()\n",
    "    return val"
   ]
  },
  {
   "cell_type": "code",
   "execution_count": 45,
   "id": "49efbc97",
   "metadata": {},
   "outputs": [
    {
     "name": "stdout",
     "output_type": "stream",
     "text": [
      "CPU times: user 13.8 s, sys: 1.43 s, total: 15.3 s\n",
      "Wall time: 15.3 s\n"
     ]
    }
   ],
   "source": [
    "%%time\n",
    "result[f'actual_article_id_short'] = result.apply(lambda row: col_convert(row['actual_article_id_short']), axis=1)\n",
    "result[f'sim_users'] = result.apply(lambda row: col_convert(row['sim_users']), axis=1)\n",
    "result[f'own_rec'] = result.apply(lambda row: col_convert(row['own_rec']), axis=1)"
   ]
  },
  {
   "cell_type": "code",
   "execution_count": 46,
   "id": "9edc8fa5",
   "metadata": {},
   "outputs": [],
   "source": [
    "result.to_parquet('archive/result.parquet')"
   ]
  },
  {
   "cell_type": "code",
   "execution_count": 107,
   "id": "b01f7734",
   "metadata": {},
   "outputs": [],
   "source": [
    "# ALL articles, N=500 ownrec_+_als_user-user_(500)_[:300] usr in top weeks recs\n",
    "# [36] top week all recs user+item rec [:500]:                          0.18546809308615347  3h 35min 47s\n",
    "\n",
    "# Все, что ниже меньше на около 2%, чем указано, была ошибка в \n",
    "\n",
    "# ALL articles, N=500 ownrec_+_als_user-user_(1000)_[:300] usr in top weeks recs\n",
    "# [36] top week all recs user+item rec [:300]:                          0.19477580725279156\n",
    "\n",
    "# ALL articles, N=500 ownrec_+_als_user-user_(1500)_[:300] usr in top weeks recs\n",
    "# [36] top week all recs user+item rec [:300]:                          0.19468697652055272\n",
    "\n",
    "\n",
    "# ALL articles, N=500 ownrec_+_als_user-user_(1000)_[:200] usr in top weeks recs\n",
    "# [36] top week all recs user+item rec [:200]:                          0.18547566396237963  3,5 часа\n",
    "# [36] top week all recs user+item rec [:250]:                          0.1871061748466698   2 часа\n",
    "# [36] top week all recs user+item rec [:300]:                          0.18786509431469386  1,5 часа\n",
    "\n",
    "\n",
    "# ALL articles, N=500 ownrec_+_als_user-user_(1000)_[:200] usr in top weeks recs\n",
    "# [36] top week all recs:                                               0.17699052881027386\n",
    "# [36] top week non rec:                                                0.15856317784885243\n",
    "# [36]:                                                                 0.14282189518238486\n",
    "\n",
    "# ALL articles, N=500 ownrec_+_als_user-user_(50)_[:200] usr in top weeks recs          \n",
    "# [36]:                                                                 0.136161043703649\n",
    "# [39, 47, 43, 44, 41, 40, 37, 36, 42, 38, 35, 46, 45, 50, 49, 1, 52]:  0.12959007290888985\n",
    "# [39, 47, 43, 44, 41, 40, 37, 36, 42, 38, 35, 46, 45, 49]:             0.12964804101548066\n",
    "# [39, 41, 40, 37, 36, 42, 38, 35]:                                     0.13142969085634304\n",
    "# [39, 37, 36, 38, 35]:                                                 0.13335686448557282\n",
    "# [39, 40, 37, 36, 38]:                                                 0.130681402495449\n",
    "# [37, 38]:                                                             0.12909899728601051\n",
    "# [37, 36]:                                                             0.13437953871833408\n",
    "# [37]:                                                                 0.1291321164660187\n",
    "# [39]:                                                                 0.12827095089728174"
   ]
  },
  {
   "cell_type": "code",
   "execution_count": null,
   "id": "72de6b48",
   "metadata": {},
   "outputs": [],
   "source": []
  }
 ],
 "metadata": {
  "kernelspec": {
   "display_name": "Python 3 (ipykernel)",
   "language": "python",
   "name": "python3"
  },
  "language_info": {
   "codemirror_mode": {
    "name": "ipython",
    "version": 3
   },
   "file_extension": ".py",
   "mimetype": "text/x-python",
   "name": "python",
   "nbconvert_exporter": "python",
   "pygments_lexer": "ipython3",
   "version": "3.9.15"
  }
 },
 "nbformat": 4,
 "nbformat_minor": 5
}
