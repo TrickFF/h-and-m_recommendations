{
 "cells": [
  {
   "cell_type": "code",
   "execution_count": 1,
   "id": "e80f0f92",
   "metadata": {},
   "outputs": [],
   "source": [
    "import pandas as pd\n",
    "import numpy as np\n",
    "import gc\n",
    "from numba import jit, typeof, typed, types, prange\n",
    "\n",
    "from catboost import CatBoostClassifier, Pool\n",
    "from catboost.utils import eval_metric\n",
    "\n",
    "from rec_lib.utils import reduce_mem_usage, set_target, customers_prep, articles_prep, df_lvl2_prep, top_12_recs\n",
    "from rec_lib.metrics import precision_at_k, ap_k, recall, recall_at_k\n",
    "from rec_lib.models import get_baseline_preds\n",
    "\n",
    "import warnings\n",
    "warnings.filterwarnings(\"ignore\")"
   ]
  },
  {
   "cell_type": "code",
   "execution_count": 2,
   "id": "cd5c40cd",
   "metadata": {},
   "outputs": [],
   "source": [
    "%load_ext autoreload\n",
    "%autoreload 2"
   ]
  },
  {
   "cell_type": "code",
   "execution_count": 3,
   "id": "f91a6c87",
   "metadata": {},
   "outputs": [
    {
     "name": "stdout",
     "output_type": "stream",
     "text": [
      "CPU times: user 2.64 s, sys: 1.01 s, total: 3.65 s\n",
      "Wall time: 2.69 s\n"
     ]
    }
   ],
   "source": [
    "%%time\n",
    "result = pd.read_parquet('archive/result.parquet')\n",
    "customers = pd.read_parquet('archive/customers.parquet')\n",
    "articles = pd.read_parquet('archive/articles.parquet')"
   ]
  },
  {
   "cell_type": "markdown",
   "id": "67c506e0",
   "metadata": {},
   "source": [
    "### Подготовка данных"
   ]
  },
  {
   "cell_type": "code",
   "execution_count": 4,
   "id": "9f8c8b58",
   "metadata": {},
   "outputs": [
    {
     "name": "stdout",
     "output_type": "stream",
     "text": [
      "CPU times: user 1.76 s, sys: 186 ms, total: 1.94 s\n",
      "Wall time: 1.9 s\n"
     ]
    }
   ],
   "source": [
    "%%time\n",
    "customers = customers_prep(customers)"
   ]
  },
  {
   "cell_type": "code",
   "execution_count": 5,
   "id": "6cd75275",
   "metadata": {},
   "outputs": [
    {
     "name": "stdout",
     "output_type": "stream",
     "text": [
      "CPU times: user 55.8 ms, sys: 1.01 ms, total: 56.8 ms\n",
      "Wall time: 55 ms\n"
     ]
    }
   ],
   "source": [
    "%%time\n",
    "articles = articles_prep(articles)"
   ]
  },
  {
   "cell_type": "markdown",
   "id": "da6bb355",
   "metadata": {},
   "source": [
    "### Собираем датафрейм для обучения модели 2го уровня"
   ]
  },
  {
   "cell_type": "code",
   "execution_count": 6,
   "id": "87174108",
   "metadata": {},
   "outputs": [
    {
     "name": "stdout",
     "output_type": "stream",
     "text": [
      "CPU times: user 1min 39s, sys: 7.64 s, total: 1min 46s\n",
      "Wall time: 1min 45s\n"
     ]
    }
   ],
   "source": [
    "%%time\n",
    "result = df_lvl2_prep(result)"
   ]
  },
  {
   "cell_type": "code",
   "execution_count": 7,
   "id": "93609e21",
   "metadata": {},
   "outputs": [
    {
     "name": "stdout",
     "output_type": "stream",
     "text": [
      "CPU times: user 21.4 s, sys: 6.21 s, total: 27.6 s\n",
      "Wall time: 27.6 s\n"
     ]
    }
   ],
   "source": [
    "%%time\n",
    "# добавляем данные из датафремов покупателей и категорий\n",
    "result = result.merge(customers, on='customer_id', how='left')\n",
    "result = result.merge(articles, on='article_id', how='left')"
   ]
  },
  {
   "cell_type": "code",
   "execution_count": 8,
   "id": "4615ccf3",
   "metadata": {},
   "outputs": [
    {
     "data": {
      "text/plain": [
       "0"
      ]
     },
     "execution_count": 8,
     "metadata": {},
     "output_type": "execute_result"
    }
   ],
   "source": [
    "del customers;\n",
    "del articles;\n",
    "gc.collect()"
   ]
  },
  {
   "cell_type": "code",
   "execution_count": 9,
   "id": "5842c936",
   "metadata": {},
   "outputs": [],
   "source": [
    "features = list(result)\n",
    "features.remove('target')\n",
    "features.remove('customer_id')\n",
    "features.remove('article_id')\n",
    "cat_feats = features.copy()\n",
    "cat_feats.remove('age')\n",
    "cat_feats.remove('customer_id_short')\n",
    "cat_feats.remove('article_id_short')"
   ]
  },
  {
   "cell_type": "markdown",
   "id": "af10c797",
   "metadata": {},
   "source": [
    "### Обучим модель CatBoostClassifier "
   ]
  },
  {
   "cell_type": "code",
   "execution_count": 10,
   "id": "b8e0ec46",
   "metadata": {},
   "outputs": [
    {
     "name": "stdout",
     "output_type": "stream",
     "text": [
      "CPU times: user 2h 4min 2s, sys: 3min 39s, total: 2h 7min 41s\n",
      "Wall time: 10min 5s\n"
     ]
    }
   ],
   "source": [
    "%%time\n",
    "clf = get_baseline_preds(result, features, cat_feats)"
   ]
  },
  {
   "cell_type": "code",
   "execution_count": 12,
   "id": "384486a4",
   "metadata": {},
   "outputs": [
    {
     "name": "stdout",
     "output_type": "stream",
     "text": [
      "CPU times: user 2min 12s, sys: 2.27 s, total: 2min 15s\n",
      "Wall time: 1min 4s\n"
     ]
    }
   ],
   "source": [
    "%%time\n",
    "# получаем предсказания модели\n",
    "preds = clf.predict_proba(result[features])\n",
    "preds = preds[:,1]"
   ]
  },
  {
   "cell_type": "code",
   "execution_count": 14,
   "id": "4b246e94",
   "metadata": {},
   "outputs": [],
   "source": [
    "customers_id = result['customer_id_short'].values\n",
    "article_id = result['article_id_short'].values\n",
    "target = result['target'].values"
   ]
  },
  {
   "cell_type": "code",
   "execution_count": 15,
   "id": "8a43128a",
   "metadata": {},
   "outputs": [
    {
     "name": "stdout",
     "output_type": "stream",
     "text": [
      "CPU times: user 29.4 s, sys: 451 ms, total: 29.9 s\n",
      "Wall time: 29.8 s\n"
     ]
    }
   ],
   "source": [
    "%%time\n",
    "# ранжируем предсказания и берем топ12\n",
    "customers_id_arr, recs = top_12_recs(customers_id, article_id, target, preds)"
   ]
  },
  {
   "cell_type": "code",
   "execution_count": 16,
   "id": "57399605",
   "metadata": {},
   "outputs": [],
   "source": [
    "# трансформируем массивы рекомендаций\n",
    "recs = recs.reshape(len(set(customers_id)),12)\n",
    "customers_id_arr = customers_id_arr.astype(np.int32)"
   ]
  },
  {
   "cell_type": "code",
   "execution_count": 17,
   "id": "9db2a53e",
   "metadata": {},
   "outputs": [],
   "source": [
    "spam = pd.DataFrame([(customers_id_arr[i], recs[i]) for i in range(len(set(customers_id)))], columns=['customer_id_short', 'top_12_recs'])"
   ]
  },
  {
   "cell_type": "code",
   "execution_count": 18,
   "id": "62526f31",
   "metadata": {},
   "outputs": [],
   "source": [
    "result_test = pd.read_parquet('archive/result.parquet')\n",
    "result_test = result_test.merge(spam, on='customer_id_short', how='left')"
   ]
  },
  {
   "cell_type": "code",
   "execution_count": 19,
   "id": "364eb0a5",
   "metadata": {},
   "outputs": [
    {
     "name": "stdout",
     "output_type": "stream",
     "text": [
      "Recall_own_rec_12 :  0.022902486423667465\n"
     ]
    }
   ],
   "source": [
    "print('Recall_own_rec_12 : ', result_test.apply(lambda row: recall(row['top_12_recs'], row['actual_article_id_short']), axis=1).mean())"
   ]
  },
  {
   "cell_type": "code",
   "execution_count": 21,
   "id": "ad0c1d09",
   "metadata": {},
   "outputs": [
    {
     "name": "stdout",
     "output_type": "stream",
     "text": [
      "MAP_own_rec_12 :  0.0016198802750783724\n"
     ]
    }
   ],
   "source": [
    "print('MAP_own_rec_12 : ', result_test.apply(lambda row: ap_k(row['top_12_recs'], row['actual_article_id_short'], 12), axis=1).mean())"
   ]
  }
 ],
 "metadata": {
  "kernelspec": {
   "display_name": "Python 3 (ipykernel)",
   "language": "python",
   "name": "python3"
  },
  "language_info": {
   "codemirror_mode": {
    "name": "ipython",
    "version": 3
   },
   "file_extension": ".py",
   "mimetype": "text/x-python",
   "name": "python",
   "nbconvert_exporter": "python",
   "pygments_lexer": "ipython3",
   "version": "3.9.15"
  }
 },
 "nbformat": 4,
 "nbformat_minor": 5
}
