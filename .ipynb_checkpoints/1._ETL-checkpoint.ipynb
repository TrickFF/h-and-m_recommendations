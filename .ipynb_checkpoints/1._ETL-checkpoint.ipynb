{
 "cells": [
  {
   "cell_type": "code",
   "execution_count": 1,
   "id": "c122f5f8",
   "metadata": {},
   "outputs": [],
   "source": [
    "import pandas as pd\n",
    "import numpy as np\n",
    "import gc\n",
    "from joblib import dump, load\n",
    "from datetime import datetime, date\n",
    "\n",
    "from rec_lib.utils import reduce_mem_usage, create_transactions_dict\n",
    "\n",
    "import warnings\n",
    "warnings.filterwarnings(\"ignore\")"
   ]
  },
  {
   "cell_type": "code",
   "execution_count": 2,
   "id": "beda3fa1",
   "metadata": {},
   "outputs": [],
   "source": [
    "# загружаем данные\n",
    "df_articles = pd.read_csv('archive/articles.csv')\n",
    "df_customers = pd.read_csv('archive/customers.csv')"
   ]
  },
  {
   "cell_type": "code",
   "execution_count": 3,
   "id": "2a8c7548",
   "metadata": {},
   "outputs": [],
   "source": [
    "# сохраняем в формате parquet\n",
    "df_articles.to_parquet('archive/articles.parquet')\n",
    "df_customers.to_parquet('archive/customers.parquet')"
   ]
  },
  {
   "cell_type": "code",
   "execution_count": 4,
   "id": "66dc01bf",
   "metadata": {},
   "outputs": [],
   "source": [
    "# функция вычисления порядкового номера недели покупки\n",
    "def week_num(el):   \n",
    "    global spam\n",
    "    global spam2\n",
    "    \n",
    "    if spam != el:\n",
    "        spam = el\n",
    "        spam2 += 1\n",
    "        \n",
    "    return spam2"
   ]
  },
  {
   "cell_type": "code",
   "execution_count": 5,
   "id": "74667f3f",
   "metadata": {},
   "outputs": [],
   "source": [
    "# функция создания датафрейма, сгруппированного по количеству покупок категории покупателем, с дополнительными колонками недель\n",
    "def df_transactions_prepare(transactions_dict):\n",
    "    \n",
    "    global spam\n",
    "    \n",
    "    df_transactions = pd.DataFrame([(k+','+str(v)).split(',') for k,v in transactions_dict.items()], columns=['t_dat','customer_id','article_id','price','sales_channel_id', 'values'])\n",
    "    \n",
    "    # преобразуем форматы данных\n",
    "    df_transactions['t_dat'] = df_transactions['t_dat'].astype('datetime64[ns]')\n",
    "    df_transactions['article_id'] = df_transactions['article_id'].astype('int32')\n",
    "    df_transactions['sales_channel_id'] = df_transactions['sales_channel_id'].astype('int32')\n",
    "    df_transactions['values'] = df_transactions['values'].astype('int32')\n",
    "    df_transactions['price'] = df_transactions['price'].astype('float')\n",
    "    \n",
    "    # неделя года на которой совершена покупку\n",
    "    df_transactions['week_number_of_year'] = df_transactions['t_dat'].dt.week\n",
    "    df_transactions['week_number_of_year'] = df_transactions['week_number_of_year'].astype('int32')\n",
    "    \n",
    "    # для анализа по неделям уберем начальные дни из данных для того, чтобы в неделях было одинаковое количество дней\n",
    "    df_transactions = df_transactions.loc[~df_transactions['t_dat'].isin(['2018-09-20 00:00:00', '2018-09-21 00:00:00', '2018-09-22 00:00:00', '2018-09-23 00:00:00', '2018-09-24 00:00:00', '2018-09-25 00:00:00'])]\n",
    "    \n",
    "    # добавляем порядковый номер недели на которой совершена покупка\n",
    "    spam = df_transactions.iloc[0]['week_number_of_year'] # номер недели года\n",
    "    week_number_of_year = np.array(df_transactions['week_number_of_year'])\n",
    "    week_num_arr = [week_num(x) for x in week_number_of_year]\n",
    "    df_transactions['week_number'] = week_num_arr\n",
    "    df_transactions['week_number'] = df_transactions['week_number'].astype('int32')\n",
    "    \n",
    "    # создаем справочники users и items для более быстрой работы кода\n",
    "    customer_id_short = np.arange(0,df_customers.shape[0])\n",
    "    userid_to_id = dict(zip(df_customers.customer_id, customer_id_short))\n",
    "    id_to_userid= dict(zip(customer_id_short, df_customers.customer_id))\n",
    "\n",
    "    article_id_short = np.arange(0,df_articles.shape[0])\n",
    "    itemid_to_id = dict(zip(df_articles.article_id, article_id_short))\n",
    "    id_to_itemid = dict(zip(article_id_short, df_articles.article_id))\n",
    "    \n",
    "    # добавляем в df_transactions столбцы сокращенных id для users и items\n",
    "    df_transactions_customer_id = list(df_transactions.customer_id)\n",
    "    df_transactions_customer_id_short = np.array([userid_to_id[el] for el in list(df_transactions.customer_id)])\n",
    "\n",
    "    df_transactions_article_id = list(df_transactions.article_id)\n",
    "    df_transactions_article_id_short = np.array([itemid_to_id[el] for el in list(df_transactions.article_id)])\n",
    "    \n",
    "    df_transactions['customer_id_short'] = df_transactions_customer_id_short\n",
    "    df_transactions['article_id_short'] = df_transactions_article_id_short\n",
    "    df_transactions['customer_id_short'] = df_transactions['customer_id_short'].astype('int32')\n",
    "    df_transactions['article_id_short'] = df_transactions['article_id_short'].astype('int32')\n",
    "    \n",
    "    return df_transactions"
   ]
  },
  {
   "cell_type": "code",
   "execution_count": 6,
   "id": "41705aaa",
   "metadata": {},
   "outputs": [
    {
     "name": "stdout",
     "output_type": "stream",
     "text": [
      "CPU times: user 21.5 s, sys: 6.35 s, total: 27.9 s\n",
      "Wall time: 27.9 s\n"
     ]
    }
   ],
   "source": [
    "%%time\n",
    "# создаем словарь количества покупок пользователем одной категории товара за транзакцию (избавляемся от дублей)\n",
    "transactions_dict = create_transactions_dict()"
   ]
  },
  {
   "cell_type": "code",
   "execution_count": 7,
   "id": "8f564f3c",
   "metadata": {},
   "outputs": [
    {
     "name": "stdout",
     "output_type": "stream",
     "text": [
      "CPU times: user 2min 11s, sys: 14.2 s, total: 2min 25s\n",
      "Wall time: 2min 25s\n"
     ]
    }
   ],
   "source": [
    "%%time\n",
    "# создаем датафрейм, сгруппированный по количеству покупок категории покупателем, с дополнительными колонками недель\n",
    "spam = 1 # исходный номер недели года\n",
    "spam2 = 1 # исходный номер начальной недели\n",
    "df_transactions = df_transactions_prepare(transactions_dict)"
   ]
  },
  {
   "cell_type": "code",
   "execution_count": 8,
   "id": "65f46eda",
   "metadata": {},
   "outputs": [
    {
     "name": "stdout",
     "output_type": "stream",
     "text": [
      "Memory usage of dataframe is 20.13 MB\n",
      "Memory usage after optimization is: 7.25 MB\n",
      "Decreased by 64.0%\n"
     ]
    }
   ],
   "source": [
    "# сокращаем объем занимаемой памяти df_articles\n",
    "df_articles = reduce_mem_usage(df_articles)"
   ]
  },
  {
   "cell_type": "code",
   "execution_count": 9,
   "id": "ec4bc31b",
   "metadata": {},
   "outputs": [
    {
     "name": "stdout",
     "output_type": "stream",
     "text": [
      "Memory usage of dataframe is 1635.52 MB\n",
      "Memory usage after optimization is: 1160.21 MB\n",
      "Decreased by 29.1%\n"
     ]
    }
   ],
   "source": [
    "# сокращаем объем занимаемой памяти df_transactions\n",
    "df_transactions = reduce_mem_usage(df_transactions)"
   ]
  },
  {
   "cell_type": "code",
   "execution_count": 11,
   "id": "51a23116",
   "metadata": {},
   "outputs": [],
   "source": [
    "# сохраняем а формате parquet\n",
    "df_transactions.to_parquet('archive/transactions_train_for_power_bi.parquet')"
   ]
  }
 ],
 "metadata": {
  "kernelspec": {
   "display_name": "Python 3 (ipykernel)",
   "language": "python",
   "name": "python3"
  },
  "language_info": {
   "codemirror_mode": {
    "name": "ipython",
    "version": 3
   },
   "file_extension": ".py",
   "mimetype": "text/x-python",
   "name": "python",
   "nbconvert_exporter": "python",
   "pygments_lexer": "ipython3",
   "version": "3.9.15"
  }
 },
 "nbformat": 4,
 "nbformat_minor": 5
}
