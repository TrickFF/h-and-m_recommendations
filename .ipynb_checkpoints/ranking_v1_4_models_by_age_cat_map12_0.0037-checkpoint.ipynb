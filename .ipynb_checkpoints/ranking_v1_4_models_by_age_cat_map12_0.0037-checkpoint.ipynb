{
 "cells": [
  {
   "cell_type": "code",
   "execution_count": 1,
   "id": "e80f0f92",
   "metadata": {},
   "outputs": [],
   "source": [
    "import pandas as pd\n",
    "import numpy as np\n",
    "import gc\n",
    "# from joblib import dump, load\n",
    "from numba import jit, typeof, typed, types, prange\n",
    "\n",
    "from catboost import CatBoostClassifier, Pool\n",
    "from catboost.utils import eval_metric\n",
    "\n",
    "from IPython.display import clear_output\n",
    "\n",
    "from rec_lib.utils import reduce_mem_usage, precision_at_k, ap_k, prefilter_items, recall, recall_at_k, isin\n",
    "\n",
    "import warnings\n",
    "warnings.filterwarnings(\"ignore\")"
   ]
  },
  {
   "cell_type": "code",
   "execution_count": 2,
   "id": "cd5c40cd",
   "metadata": {},
   "outputs": [],
   "source": [
    "%load_ext autoreload\n",
    "%autoreload 2"
   ]
  },
  {
   "cell_type": "code",
   "execution_count": 3,
   "id": "8cbc3afc",
   "metadata": {},
   "outputs": [],
   "source": [
    "# from catboost.utils import get_gpu_device_count\n",
    "# print('В наличие %i GPU' % get_gpu_device_count())"
   ]
  },
  {
   "cell_type": "code",
   "execution_count": 4,
   "id": "f91a6c87",
   "metadata": {},
   "outputs": [
    {
     "name": "stdout",
     "output_type": "stream",
     "text": [
      "CPU times: user 2.52 s, sys: 657 ms, total: 3.18 s\n",
      "Wall time: 2.43 s\n"
     ]
    }
   ],
   "source": [
    "%%time\n",
    "result = pd.read_parquet('archive/result.parquet')\n",
    "customers = pd.read_parquet('archive/customers.parquet')\n",
    "articles = pd.read_parquet('archive/articles.parquet')"
   ]
  },
  {
   "cell_type": "markdown",
   "id": "67c506e0",
   "metadata": {},
   "source": [
    "### Подготовка данных"
   ]
  },
  {
   "cell_type": "code",
   "execution_count": 5,
   "id": "9f8c8b58",
   "metadata": {},
   "outputs": [],
   "source": [
    "customers = customers[list(customers)[:-1]]"
   ]
  },
  {
   "cell_type": "code",
   "execution_count": 6,
   "id": "a291d2a2",
   "metadata": {},
   "outputs": [],
   "source": [
    "customers['FN'] = customers['FN'].fillna(0.0)\n",
    "customers['FN'] = customers['FN'].apply(str)\n",
    "customers['Active'] = customers['Active'].fillna(0.0)\n",
    "customers['Active'] = customers['Active'].apply(str)\n",
    "customers['club_member_status'] = customers['club_member_status'].fillna('NONE')\n",
    "customers['club_member_status'] = customers['club_member_status'].apply(str)\n",
    "customers['fashion_news_frequency'] = customers['fashion_news_frequency'].fillna('NONE')\n",
    "customers.loc[customers['fashion_news_frequency'] == 'None'] = 'NONE'\n",
    "customers['fashion_news_frequency'] = customers['fashion_news_frequency'].apply(str)\n",
    "\n",
    "age_mode = float(customers['age'].mode())\n",
    "# age_median = customers[customers['age'] != 'NONE']['age'].median()\n",
    "customers['age'] = customers['age'].fillna(age_mode)\n",
    "customers[customers['age'] == 'NONE'] = age_mode"
   ]
  },
  {
   "cell_type": "code",
   "execution_count": 7,
   "id": "233f59c3",
   "metadata": {},
   "outputs": [],
   "source": [
    "art_feats = ['article_id',\n",
    "            'product_type_no',\n",
    "#             'product_type_name',\n",
    "            'product_group_name',\n",
    "            'graphical_appearance_name',\n",
    "            'colour_group_name',\n",
    "            'perceived_colour_value_name',\n",
    "            'perceived_colour_master_name',\n",
    "            'department_no',\n",
    "#             'department_name',\n",
    "            'index_name',\n",
    "            'index_group_name',\n",
    "            'garment_group_name']\n",
    "\n",
    "articles = articles[art_feats]\n",
    "articles['product_type_no'] = articles['product_type_no'].apply(str)\n",
    "articles['department_no'] = articles['department_no'].apply(str)"
   ]
  },
  {
   "cell_type": "markdown",
   "id": "da6bb355",
   "metadata": {},
   "source": [
    "### Собираем датафрейм для обучения модели 2го уровня"
   ]
  },
  {
   "cell_type": "code",
   "execution_count": 8,
   "id": "709400fa",
   "metadata": {},
   "outputs": [
    {
     "name": "stdout",
     "output_type": "stream",
     "text": [
      "CPU times: user 14.6 s, sys: 825 ms, total: 15.4 s\n",
      "Wall time: 15.4 s\n"
     ]
    }
   ],
   "source": [
    "%%time\n",
    "s = result.apply(lambda x: pd.Series(x['own_rec']), axis=1).stack().reset_index(level=1, drop=True)\n",
    "s.name = 'article_id_short'"
   ]
  },
  {
   "cell_type": "code",
   "execution_count": 9,
   "id": "0bda05bf",
   "metadata": {},
   "outputs": [],
   "source": [
    "result = result.drop(['own_rec', 'sim_users'], axis=1).join(s)"
   ]
  },
  {
   "cell_type": "code",
   "execution_count": 10,
   "id": "748b7351",
   "metadata": {},
   "outputs": [
    {
     "name": "stdout",
     "output_type": "stream",
     "text": [
      "CPU times: user 24 s, sys: 3.27 s, total: 27.3 s\n",
      "Wall time: 27.3 s\n"
     ]
    }
   ],
   "source": [
    "%%time\n",
    "result['actual_article_id_short'] = result['actual_article_id_short'].apply(lambda x: np.array(x))"
   ]
  },
  {
   "cell_type": "code",
   "execution_count": 11,
   "id": "ea1aad58",
   "metadata": {},
   "outputs": [],
   "source": [
    "actual_article_id_short_arr = np.array(result['actual_article_id_short'])\n",
    "article_id_short_arr = np.array(result['article_id_short'])"
   ]
  },
  {
   "cell_type": "code",
   "execution_count": 12,
   "id": "75b5c75a",
   "metadata": {},
   "outputs": [],
   "source": [
    "@jit(nopython=True, fastmath=True)\n",
    "def set_target(arr_actual, val):\n",
    "    if isin(arr_actual, val):\n",
    "        return 1\n",
    "    return 0"
   ]
  },
  {
   "cell_type": "code",
   "execution_count": 13,
   "id": "fa0e5d52",
   "metadata": {},
   "outputs": [
    {
     "name": "stdout",
     "output_type": "stream",
     "text": [
      "CPU times: user 24.6 s, sys: 117 ms, total: 24.8 s\n",
      "Wall time: 24.8 s\n"
     ]
    }
   ],
   "source": [
    "%%time\n",
    "target_arr = [set_target(actual_article_id_short_arr[i], article_id_short_arr[i]) for i in range(len(article_id_short_arr))]"
   ]
  },
  {
   "cell_type": "code",
   "execution_count": 14,
   "id": "49fe418e",
   "metadata": {},
   "outputs": [],
   "source": [
    "result['target'] = target_arr\n",
    "result = result.drop('actual_article_id_short', axis=1)"
   ]
  },
  {
   "cell_type": "code",
   "execution_count": 15,
   "id": "d235e7bb",
   "metadata": {},
   "outputs": [
    {
     "data": {
      "text/plain": [
       "6637"
      ]
     },
     "execution_count": 15,
     "metadata": {},
     "output_type": "execute_result"
    }
   ],
   "source": [
    "del s;\n",
    "del actual_article_id_short_arr;\n",
    "del article_id_short_arr;\n",
    "del target_arr;\n",
    "gc.collect()"
   ]
  },
  {
   "cell_type": "code",
   "execution_count": 16,
   "id": "b4a6c7ac",
   "metadata": {},
   "outputs": [
    {
     "name": "stdout",
     "output_type": "stream",
     "text": [
      "Memory usage of dataframe is 1167.72 MB\n",
      "Memory usage after optimization is: 620.35 MB\n",
      "Decreased by 46.9%\n"
     ]
    }
   ],
   "source": [
    "result = reduce_mem_usage(result)"
   ]
  },
  {
   "cell_type": "code",
   "execution_count": 17,
   "id": "9d1265ca",
   "metadata": {},
   "outputs": [
    {
     "name": "stdout",
     "output_type": "stream",
     "text": [
      "CPU times: user 6.92 s, sys: 1.11 s, total: 8.04 s\n",
      "Wall time: 6.72 s\n"
     ]
    }
   ],
   "source": [
    "%%time\n",
    "# исходные id покупателей и категорий\n",
    "spam1 = pd.read_parquet('archive/transactions_train_for_power_bi.parquet', columns=['customer_id', 'customer_id_short'])\n",
    "spam1 = spam1.drop_duplicates(keep='last')\n",
    "spam2 = pd.read_parquet('archive/transactions_train_for_power_bi.parquet', columns=['article_id', 'article_id_short'])\n",
    "spam2 = spam2.drop_duplicates(keep='last')"
   ]
  },
  {
   "cell_type": "code",
   "execution_count": 18,
   "id": "2d1d8c9d",
   "metadata": {},
   "outputs": [
    {
     "name": "stdout",
     "output_type": "stream",
     "text": [
      "CPU times: user 9.69 s, sys: 1.3 s, total: 11 s\n",
      "Wall time: 11 s\n"
     ]
    }
   ],
   "source": [
    "%%time\n",
    "# добавляем исходные id покупателей и категорий\n",
    "result = result.merge(spam1, on='customer_id_short', how='left')\n",
    "result = result.merge(spam2, on='article_id_short', how='left')"
   ]
  },
  {
   "cell_type": "code",
   "execution_count": 19,
   "id": "3cfbe7e8",
   "metadata": {},
   "outputs": [
    {
     "data": {
      "text/plain": [
       "0"
      ]
     },
     "execution_count": 19,
     "metadata": {},
     "output_type": "execute_result"
    }
   ],
   "source": [
    "del spam1;\n",
    "del spam2;\n",
    "gc.collect()"
   ]
  },
  {
   "cell_type": "code",
   "execution_count": 20,
   "id": "93609e21",
   "metadata": {},
   "outputs": [
    {
     "name": "stdout",
     "output_type": "stream",
     "text": [
      "CPU times: user 19.5 s, sys: 5.38 s, total: 24.9 s\n",
      "Wall time: 24.9 s\n"
     ]
    }
   ],
   "source": [
    "%%time\n",
    "# добавляем данные из датафремов покупателей и категорий\n",
    "result = result.merge(customers, on='customer_id', how='left')\n",
    "result = result.merge(articles, on='article_id', how='left')"
   ]
  },
  {
   "cell_type": "code",
   "execution_count": 21,
   "id": "4615ccf3",
   "metadata": {},
   "outputs": [
    {
     "data": {
      "text/plain": [
       "0"
      ]
     },
     "execution_count": 21,
     "metadata": {},
     "output_type": "execute_result"
    }
   ],
   "source": [
    "del customers;\n",
    "del articles;\n",
    "gc.collect()"
   ]
  },
  {
   "cell_type": "code",
   "execution_count": 22,
   "id": "ce55458f",
   "metadata": {},
   "outputs": [],
   "source": [
    "features = list(result)\n",
    "features.remove('target')\n",
    "features.remove('customer_id')\n",
    "features.remove('article_id')\n",
    "cat_feats = features.copy()\n",
    "cat_feats.remove('age')\n",
    "cat_feats.remove('customer_id_short')\n",
    "cat_feats.remove('article_id_short')"
   ]
  },
  {
   "cell_type": "code",
   "execution_count": 23,
   "id": "3da99f65",
   "metadata": {},
   "outputs": [],
   "source": [
    "# feats_num = 0\n",
    "# for el in cat_feats:\n",
    "#     feats_num += X_train[el].nunique()\n",
    "#     print(el, X_train[el].nunique(), feats_num)"
   ]
  },
  {
   "cell_type": "markdown",
   "id": "af10c797",
   "metadata": {},
   "source": [
    "### Модели\n",
    "- model 1 (-24 - молодежь)\n",
    "- model 2 (25-44 - зрелое экономически активное население)\n",
    "- model 3 (45-64 - пожилое экономически активное население)\n",
    "- model 4 (65+ пенсионный возраст, малый достаток)"
   ]
  },
  {
   "cell_type": "markdown",
   "id": "1b55e729",
   "metadata": {},
   "source": [
    "##### Модели"
   ]
  },
  {
   "cell_type": "code",
   "execution_count": 24,
   "id": "00ed7f86",
   "metadata": {},
   "outputs": [],
   "source": [
    "min_age = result['age'].min()\n",
    "max_age = result['age'].max()"
   ]
  },
  {
   "cell_type": "code",
   "execution_count": 25,
   "id": "231b34f7",
   "metadata": {},
   "outputs": [],
   "source": [
    "age_cats = [(min_age, 24), (25, 44), (45, 64), (65, max_age)]"
   ]
  },
  {
   "cell_type": "code",
   "execution_count": 26,
   "id": "8a2b6a51",
   "metadata": {},
   "outputs": [
    {
     "data": {
      "text/plain": [
       "936.786955883073"
      ]
     },
     "execution_count": 26,
     "metadata": {},
     "output_type": "execute_result"
    }
   ],
   "source": [
    "result.shape[0] / result['target'].sum()"
   ]
  },
  {
   "cell_type": "code",
   "execution_count": 27,
   "id": "2c467e91",
   "metadata": {},
   "outputs": [],
   "source": [
    "def get_preds():\n",
    "    \n",
    "    preds = np.zeros(0)\n",
    "    customers_id = np.zeros(0)\n",
    "    article_id = np.zeros(0)\n",
    "    target = np.zeros(0)\n",
    "    \n",
    "    for cat_range in age_cats:\n",
    "        cat_min_age = cat_range[0]\n",
    "        cat_max_age = cat_range[1]\n",
    "        \n",
    "        print(f'Возрастная категория {cat_min_age}-{cat_max_age}')\n",
    "        \n",
    "        X_train = result[features].loc[(result[features]['age'] >= cat_min_age) & (result[features]['age'] <= cat_max_age)]\n",
    "        y_train = result.loc[(result['age'] >= cat_min_age) & (result['age'] <= cat_max_age)]['target']\n",
    "        X_train[cat_feats] = X_train[cat_feats].astype('category')\n",
    "        \n",
    "        eval_data = Pool(X_train, y_train, cat_features=cat_feats)\n",
    "        \n",
    "        # CatBoostClassifier\n",
    "        # score_function:Cosine, L2\n",
    "        clf = CatBoostClassifier(iterations=150, eval_metric='Logloss', scale_pos_weight=50, learning_rate=0.6, use_best_model=True, random_seed=42) # scale_pos_weight\n",
    "        clf.fit(X_train, y_train, cat_features=cat_feats, eval_set=eval_data, early_stopping_rounds=5, verbose=True)\n",
    "        \n",
    "        # model preds\n",
    "        preds_spam = clf.predict_proba(X_train)\n",
    "        preds_spam = preds_spam[:,1]\n",
    "        \n",
    "        customers_id_spam = result.loc[(result['age'] >= cat_min_age) & (result['age'] <= cat_max_age)]['customer_id_short'].values.astype(np.int32)\n",
    "        article_id_spam = result.loc[(result['age'] >= cat_min_age) & (result['age'] <= cat_max_age)]['article_id_short'].values.astype(np.int32)\n",
    "        target_spam = result.loc[(result['age'] >= cat_min_age) & (result['age'] <= cat_max_age)]['target'].values\n",
    "    \n",
    "        customers_id = np.append(customers_id, customers_id_spam)\n",
    "        article_id = np.append(article_id, article_id_spam)\n",
    "        target = np.append(target, target_spam)\n",
    "        preds = np.append(preds, preds_spam)\n",
    "        \n",
    "        del X_train;\n",
    "        del y_train;\n",
    "        del eval_data;\n",
    "        del clf;\n",
    "        del preds_spam;\n",
    "        del customers_id_spam;\n",
    "        del target_spam;\n",
    "        gc.collect()\n",
    "        \n",
    "        clear_output(wait=True)\n",
    "        \n",
    "    return customers_id, article_id, target, preds"
   ]
  },
  {
   "cell_type": "code",
   "execution_count": 28,
   "id": "b8e0ec46",
   "metadata": {},
   "outputs": [
    {
     "name": "stdout",
     "output_type": "stream",
     "text": [
      "CPU times: user 3h 25min 36s, sys: 5min 34s, total: 3h 31min 10s\n",
      "Wall time: 16min 4s\n"
     ]
    }
   ],
   "source": [
    "%%time\n",
    "customers_id, article_id, target, preds = get_preds()"
   ]
  },
  {
   "cell_type": "code",
   "execution_count": 29,
   "id": "bf347b60",
   "metadata": {},
   "outputs": [],
   "source": [
    "customers_id = customers_id.astype(np.int32)\n",
    "article_id = article_id.astype(np.int32)"
   ]
  },
  {
   "cell_type": "code",
   "execution_count": 30,
   "id": "a5a711b4",
   "metadata": {},
   "outputs": [],
   "source": [
    "@jit(nopython=True, fastmath=True)\n",
    "def top_12_recs(customers_id, article_id, target, preds):\n",
    "    customers_id_arr = np.zeros(0)\n",
    "    recs = np.zeros(0)\n",
    "    k1 = 0\n",
    "    k2 = 500\n",
    "    for i in range(len(set(customers_id))):\n",
    "        customers_id_spam = customers_id[k1:k2]\n",
    "        article_id_spam = article_id[k1:k2]\n",
    "        target_spam = target[k1:k2]\n",
    "        preds_spam = preds[k1:k2]\n",
    "        \n",
    "        mask = preds_spam.argsort()[::-1]\n",
    "        rec = np.zeros(12)\n",
    "        \n",
    "        customers_id_arr = np.append(customers_id_arr, customers_id_spam[0])\n",
    "        \n",
    "        for i in range(12):\n",
    "            rec[i] = article_id_spam[mask[i]]\n",
    "            \n",
    "        recs = np.append(recs, rec)\n",
    "            \n",
    "        k1 += 500\n",
    "        k2 += 500\n",
    "        \n",
    "    return customers_id_arr, recs"
   ]
  },
  {
   "cell_type": "code",
   "execution_count": 31,
   "id": "8a43128a",
   "metadata": {},
   "outputs": [
    {
     "name": "stdout",
     "output_type": "stream",
     "text": [
      "CPU times: user 28.5 s, sys: 489 ms, total: 29 s\n",
      "Wall time: 29 s\n"
     ]
    }
   ],
   "source": [
    "%%time\n",
    "customers_id_arr, recs = top_12_recs(customers_id, article_id, target, preds)"
   ]
  },
  {
   "cell_type": "code",
   "execution_count": 32,
   "id": "57399605",
   "metadata": {},
   "outputs": [],
   "source": [
    "recs = recs.reshape(len(set(customers_id)),12)\n",
    "customers_id_arr = customers_id_arr.astype(np.int32)"
   ]
  },
  {
   "cell_type": "code",
   "execution_count": 33,
   "id": "9db2a53e",
   "metadata": {},
   "outputs": [],
   "source": [
    "spam = pd.DataFrame([(customers_id_arr[i], recs[i]) for i in range(len(set(customers_id)))], columns=['customer_id_short', 'top_12_recs'])"
   ]
  },
  {
   "cell_type": "code",
   "execution_count": 34,
   "id": "62526f31",
   "metadata": {},
   "outputs": [],
   "source": [
    "result_test = pd.read_parquet('archive/result.parquet')\n",
    "result_test = result_test.merge(spam, on='customer_id_short', how='left')"
   ]
  },
  {
   "cell_type": "code",
   "execution_count": 35,
   "id": "364eb0a5",
   "metadata": {},
   "outputs": [
    {
     "name": "stdout",
     "output_type": "stream",
     "text": [
      "Recall_own_rec_12 :  0.04481846805032747\n"
     ]
    }
   ],
   "source": [
    "print('Recall_own_rec_12 : ', result_test.apply(lambda row: recall(row['top_12_recs'], row['actual_article_id_short']), axis=1).mean())"
   ]
  },
  {
   "cell_type": "code",
   "execution_count": 36,
   "id": "6bc68cd9",
   "metadata": {},
   "outputs": [],
   "source": [
    "# Recall iter_num=170\n",
    "# Logloss scale_pos_weight=50:      0.044582620960084154   1ч 6мин\n",
    "\n",
    "# Recall iter_num=150\n",
    "# Logloss scale_pos_weight=50:      0.04481846805032747    16мин"
   ]
  },
  {
   "cell_type": "code",
   "execution_count": 37,
   "id": "ad0c1d09",
   "metadata": {},
   "outputs": [
    {
     "name": "stdout",
     "output_type": "stream",
     "text": [
      "MAP_own_rec_12 :  0.003788928980852199\n"
     ]
    }
   ],
   "source": [
    "print('MAP_own_rec_12 : ', result_test.apply(lambda row: ap_k(row['top_12_recs'], row['actual_article_id_short'], 12), axis=1).mean())"
   ]
  },
  {
   "cell_type": "code",
   "execution_count": 38,
   "id": "0757bfcd",
   "metadata": {},
   "outputs": [],
   "source": [
    "# MAP@12 iter_num=170\n",
    "# Logloss scale_pos_weight=50:      0.0038094989590683973  1ч 6мин\n",
    "\n",
    "# MAP@12 iter_num=150\n",
    "# Logloss scale_pos_weight=50:      0.003788928980852199   16мин"
   ]
  },
  {
   "cell_type": "code",
   "execution_count": null,
   "id": "03b3593b",
   "metadata": {},
   "outputs": [],
   "source": []
  }
 ],
 "metadata": {
  "kernelspec": {
   "display_name": "Python 3 (ipykernel)",
   "language": "python",
   "name": "python3"
  },
  "language_info": {
   "codemirror_mode": {
    "name": "ipython",
    "version": 3
   },
   "file_extension": ".py",
   "mimetype": "text/x-python",
   "name": "python",
   "nbconvert_exporter": "python",
   "pygments_lexer": "ipython3",
   "version": "3.9.15"
  }
 },
 "nbformat": 4,
 "nbformat_minor": 5
}
