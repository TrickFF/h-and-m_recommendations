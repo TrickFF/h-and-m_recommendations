{
 "cells": [
  {
   "cell_type": "code",
   "execution_count": 1,
   "id": "b3b1eac7",
   "metadata": {},
   "outputs": [],
   "source": [
    "import pandas as pd\n",
    "import numpy as np\n",
    "\n",
    "from numba import jit, typeof, typed, types, prange\n",
    "\n",
    "from implicit.gpu.als import AlternatingLeastSquares\n",
    "from implicit.nearest_neighbours import ItemItemRecommender\n",
    "from implicit.nearest_neighbours import bm25_weight, tfidf_weight\n",
    "\n",
    "from scipy.sparse import csr_matrix, coo_matrix\n",
    "\n",
    "from rec_lib.utils import get_recommendations, get_sim_users, col_convert\n",
    "from rec_lib.metrics import recall, recall_at_k, precision_at_k, ap_k\n",
    "\n",
    "import warnings\n",
    "warnings.filterwarnings(\"ignore\")"
   ]
  },
  {
   "cell_type": "code",
   "execution_count": 6,
   "id": "010f949d",
   "metadata": {},
   "outputs": [
    {
     "name": "stdout",
     "output_type": "stream",
     "text": [
      "The autoreload extension is already loaded. To reload it, use:\n",
      "  %reload_ext autoreload\n"
     ]
    }
   ],
   "source": [
    "%load_ext autoreload\n",
    "%autoreload 2"
   ]
  },
  {
   "cell_type": "markdown",
   "id": "63f4118f",
   "metadata": {},
   "source": [
    "### Загрузим данные и разделим на train/test и validation"
   ]
  },
  {
   "cell_type": "code",
   "execution_count": 10,
   "id": "3eda307f",
   "metadata": {},
   "outputs": [],
   "source": [
    "df_transactions = pd.read_parquet('archive/transactions_train_for_power_bi.parquet')"
   ]
  },
  {
   "cell_type": "code",
   "execution_count": 11,
   "id": "39d00cf4",
   "metadata": {},
   "outputs": [],
   "source": [
    "'''\n",
    "в качестве валидации возьмем 104 неделю (38 неделя года), т.к. 105 неполная,\n",
    "103 (37 неделя года) - test, в качестве трейна - весь предыдущий период\n",
    "'''\n",
    "validation = df_transactions.loc[df_transactions['week_number'] == 104]\n",
    "test = df_transactions.loc[df_transactions['week_number'] == 103]\n",
    "train = df_transactions.loc[df_transactions['week_number'] < 103]"
   ]
  },
  {
   "cell_type": "code",
   "execution_count": 12,
   "id": "bf6043a0",
   "metadata": {},
   "outputs": [
    {
     "name": "stdout",
     "output_type": "stream",
     "text": [
      "CPU times: user 12.6 s, sys: 1.41 s, total: 14 s\n",
      "Wall time: 14 s\n"
     ]
    }
   ],
   "source": [
    "%%time\n",
    "train = train.sort_values(['customer_id_short', 'article_id_short']).reset_index(drop = True)"
   ]
  },
  {
   "cell_type": "code",
   "execution_count": 13,
   "id": "b735f6b5",
   "metadata": {},
   "outputs": [
    {
     "name": "stdout",
     "output_type": "stream",
     "text": [
      "В трейне - 1343966 покупателей\n",
      "В тесте - 76528 покупателей\n",
      "Покупателей из теста нет в трейне - 5870\n"
     ]
    }
   ],
   "source": [
    "# Проверим сколько пользователей из трейна отсутствует в тесте\n",
    "print(f\"В трейне - {len(set(train['customer_id_short']))} покупателей\\n\\\n",
    "В тесте - {len(set(test['customer_id_short']))} покупателей\\n\\\n",
    "Покупателей из теста нет в трейне - {len(set(test['customer_id_short']) - set(train['customer_id_short']))}\")"
   ]
  },
  {
   "cell_type": "code",
   "execution_count": 14,
   "id": "9adee178",
   "metadata": {},
   "outputs": [],
   "source": [
    "# Создадим df в котором будут фактические данные теста, сюда потом добавим предсказания\n",
    "result = test.groupby('customer_id_short')['article_id_short'].unique().reset_index()\n",
    "result.columns=['customer_id_short', 'actual_article_id_short']"
   ]
  },
  {
   "cell_type": "code",
   "execution_count": 23,
   "id": "418433bd",
   "metadata": {},
   "outputs": [],
   "source": [
    "# получаем датафрейм топ категорий предыдущей недели\n",
    "top_week_num = train.loc[train['week_number'] == train['week_number'].max()]['week_number_of_year'].max()\n",
    "\n",
    "sim_weeks_articles = train.loc[train['week_number_of_year'].isin([top_week_num])]\n",
    "sim_weeks_articles = sim_weeks_articles.groupby('article_id_short')['values'].sum().reset_index()\n",
    "sim_weeks_articles = sim_weeks_articles.sort_values('values', ascending=False)"
   ]
  },
  {
   "cell_type": "code",
   "execution_count": 24,
   "id": "c001caad",
   "metadata": {},
   "outputs": [],
   "source": [
    "# получаем numba list топ категорий предыдущей недели\n",
    "K = 1300 # количество популярных категорий предыдущей недели\n",
    "top_sim_weeks_articles_nb = typed.List(set(sim_weeks_articles.iloc[:K]['article_id_short'].values))"
   ]
  },
  {
   "cell_type": "code",
   "execution_count": 25,
   "id": "7d524198",
   "metadata": {},
   "outputs": [
    {
     "name": "stdout",
     "output_type": "stream",
     "text": [
      "CPU times: user 713 ms, sys: 70 ms, total: 783 ms\n",
      "Wall time: 782 ms\n"
     ]
    }
   ],
   "source": [
    "%%time\n",
    "# создаем массив использованных article_id\n",
    "used_article_id_short = sorted(np.array(train['article_id_short'].unique()))\n",
    "article_id_for_dict = np.arange(0,len(used_article_id_short))\n",
    "\n",
    "# Создаем справочники users и items для более быстрой работы кода\n",
    "used_itemid_to_id = dict(zip(used_article_id_short, article_id_for_dict))\n",
    "id_to_used_itemid = dict(zip(article_id_for_dict, used_article_id_short))\n",
    "\n",
    "\n",
    "# создаем массив использованных customer_id_short\n",
    "used_user_id_short = sorted(np.array(train['customer_id_short'].unique()))\n",
    "user_id_for_dict = np.arange(0,len(used_user_id_short))\n",
    "\n",
    "# Создаем справочники users и items для более быстрой работы кода\n",
    "used_userid_to_id = dict(zip(used_user_id_short, user_id_for_dict))\n",
    "id_to_used_userid = dict(zip(user_id_for_dict, used_user_id_short))"
   ]
  },
  {
   "cell_type": "code",
   "execution_count": 26,
   "id": "701b04e0",
   "metadata": {},
   "outputs": [
    {
     "name": "stdout",
     "output_type": "stream",
     "text": [
      "CPU times: user 973 ms, sys: 8.72 ms, total: 981 ms\n",
      "Wall time: 982 ms\n"
     ]
    }
   ],
   "source": [
    "%%time\n",
    "# преобразуем словарь в словарь numba\n",
    "id_to_used_itemid_nb = typed.Dict.empty(types.int64,types.int64)\n",
    "\n",
    "for k, v in id_to_used_itemid.items():\n",
    "    id_to_used_itemid_nb[k] = v"
   ]
  },
  {
   "cell_type": "markdown",
   "id": "09cdd72c",
   "metadata": {},
   "source": [
    "### Подготовим данные для построения моделей 1го уровня"
   ]
  },
  {
   "cell_type": "code",
   "execution_count": 27,
   "id": "3d4e2993",
   "metadata": {},
   "outputs": [
    {
     "name": "stdout",
     "output_type": "stream",
     "text": [
      "CPU times: user 10.2 s, sys: 209 ms, total: 10.4 s\n",
      "Wall time: 10.4 s\n"
     ]
    }
   ],
   "source": [
    "%%time\n",
    "# получаем массивы для построения разряженной матрицы по координатам ненулевых элементов\n",
    "user_id_short_arr_for_matrix = train.customer_id_short.values\n",
    "user_id_short_arr_for_matrix = np.array([used_userid_to_id[el] for el in user_id_short_arr_for_matrix])\n",
    "\n",
    "article_id_short_arr_for_matrix = train.article_id_short.values\n",
    "article_id_short_arr_for_matrix = np.array([used_itemid_to_id[el] for el in article_id_short_arr_for_matrix])\n",
    "\n",
    "article_user_counter_for_matrix = train['values'].values.astype(np.float64)"
   ]
  },
  {
   "cell_type": "code",
   "execution_count": 15,
   "id": "3a7fe2bd",
   "metadata": {},
   "outputs": [
    {
     "name": "stdout",
     "output_type": "stream",
     "text": [
      "CPU times: user 249 ms, sys: 9.72 ms, total: 259 ms\n",
      "Wall time: 258 ms\n"
     ]
    }
   ],
   "source": [
    "%%time\n",
    "# Создаем разряженную матриуц по координатам ненулевых элементов\n",
    "coo = coo_matrix((article_user_counter_for_matrix, (user_id_short_arr_for_matrix, article_id_short_arr_for_matrix)))\n",
    "\n",
    "# Приведем матрицу в нужный формат для модели и произведем взвешивание bm25\n",
    "custom_sparse_user_item = csr_matrix(coo).tocsr()\n",
    "custom_bm25_user_item_matrix = bm25_weight(custom_sparse_user_item.T).T.tocsr()"
   ]
  },
  {
   "cell_type": "code",
   "execution_count": 17,
   "id": "60fd6363",
   "metadata": {},
   "outputs": [
    {
     "name": "stdout",
     "output_type": "stream",
     "text": [
      "CPU times: user 2min 14s, sys: 504 ms, total: 2min 14s\n",
      "Wall time: 2min 16s\n"
     ]
    }
   ],
   "source": [
    "%%time\n",
    "\n",
    "# ALS модель на GPU\n",
    "als = AlternatingLeastSquares(factors=60,\n",
    "                regularization=0.8,\n",
    "                iterations=3,\n",
    "                calculate_training_loss=True,\n",
    "                random_state=42)\n",
    "\n",
    "als.fit(custom_bm25_user_item_matrix, show_progress=False)"
   ]
  },
  {
   "cell_type": "code",
   "execution_count": 18,
   "id": "08741e75",
   "metadata": {
    "scrolled": true
   },
   "outputs": [
    {
     "name": "stdout",
     "output_type": "stream",
     "text": [
      "CPU times: user 46.2 s, sys: 5.65 s, total: 51.8 s\n",
      "Wall time: 5.59 s\n"
     ]
    }
   ],
   "source": [
    "%%time\n",
    "\n",
    "# Количество потоков процессора для обучения\n",
    "NUM_THREADS = 16\n",
    "\n",
    "# Own recommender\n",
    "own_recommender = ItemItemRecommender(K=1, num_threads=NUM_THREADS)\n",
    "own_recommender.fit(custom_sparse_user_item, show_progress=False)"
   ]
  },
  {
   "cell_type": "markdown",
   "id": "a35a986d",
   "metadata": {},
   "source": [
    "### Найдем похожих покупателей"
   ]
  },
  {
   "cell_type": "code",
   "execution_count": 19,
   "id": "56906dd7",
   "metadata": {},
   "outputs": [
    {
     "name": "stdout",
     "output_type": "stream",
     "text": [
      "CPU times: user 7min 48s, sys: 5.41 s, total: 7min 54s\n",
      "Wall time: 7min 53s\n"
     ]
    }
   ],
   "source": [
    "%%time\n",
    "# количество похожих покупателей\n",
    "N_USERS = 500\n",
    "\n",
    "result[f'sim_users'] = result['customer_id_short'].map(lambda x: get_sim_users(x, used_userid_to_id, id_to_used_userid, als, N_USERS))"
   ]
  },
  {
   "cell_type": "markdown",
   "id": "bae9edbc",
   "metadata": {},
   "source": [
    "### Получим рекомендации и их оценку"
   ]
  },
  {
   "cell_type": "code",
   "execution_count": 39,
   "id": "4efa10ce",
   "metadata": {},
   "outputs": [
    {
     "name": "stdout",
     "output_type": "stream",
     "text": [
      "CPU times: user 3h 23min 57s, sys: 4min 23s, total: 3h 28min 21s\n",
      "Wall time: 3h 28min 12s\n"
     ]
    }
   ],
   "source": [
    "%%time\n",
    "# рекомендаций до ранжирования\n",
    "N = 500\n",
    "\n",
    "result[f'own_rec'] = result.apply(lambda row: get_recommendations(row['customer_id_short'], row['sim_users'], als, own_recommender, used_userid_to_id, used_itemid_to_id, custom_sparse_user_item, id_to_used_itemid_nb, top_sim_weeks_articles_nb, N), axis=1)"
   ]
  },
  {
   "cell_type": "code",
   "execution_count": 40,
   "id": "eb0373cc",
   "metadata": {},
   "outputs": [
    {
     "name": "stdout",
     "output_type": "stream",
     "text": [
      "Recall_own_rec:  0.18546809308615347\n"
     ]
    }
   ],
   "source": [
    "print('Recall_own_rec: ', result.apply(lambda row: recall(row['own_rec'], row['actual_article_id_short']), axis=1).mean())"
   ]
  },
  {
   "cell_type": "code",
   "execution_count": 45,
   "id": "49efbc97",
   "metadata": {},
   "outputs": [
    {
     "name": "stdout",
     "output_type": "stream",
     "text": [
      "CPU times: user 13.8 s, sys: 1.43 s, total: 15.3 s\n",
      "Wall time: 15.3 s\n"
     ]
    }
   ],
   "source": [
    "%%time\n",
    "# преобразуем тип данных колонок для возможности сохранения в формате parquet\n",
    "result[f'actual_article_id_short'] = result.apply(lambda row: col_convert(row['actual_article_id_short']), axis=1)\n",
    "result[f'sim_users'] = result.apply(lambda row: col_convert(row['sim_users']), axis=1)\n",
    "result[f'own_rec'] = result.apply(lambda row: col_convert(row['own_rec']), axis=1)"
   ]
  },
  {
   "cell_type": "code",
   "execution_count": 46,
   "id": "9edc8fa5",
   "metadata": {},
   "outputs": [],
   "source": [
    "# сохраняем в формате parquet\n",
    "result.to_parquet('archive/result.parquet')"
   ]
  }
 ],
 "metadata": {
  "kernelspec": {
   "display_name": "Python 3 (ipykernel)",
   "language": "python",
   "name": "python3"
  },
  "language_info": {
   "codemirror_mode": {
    "name": "ipython",
    "version": 3
   },
   "file_extension": ".py",
   "mimetype": "text/x-python",
   "name": "python",
   "nbconvert_exporter": "python",
   "pygments_lexer": "ipython3",
   "version": "3.9.15"
  }
 },
 "nbformat": 4,
 "nbformat_minor": 5
}
