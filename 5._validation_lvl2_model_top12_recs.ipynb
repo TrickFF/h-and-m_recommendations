{
 "cells": [
  {
   "cell_type": "code",
   "execution_count": 1,
   "id": "b3b1eac7",
   "metadata": {},
   "outputs": [],
   "source": [
    "import pandas as pd\n",
    "import numpy as np\n",
    "import gc\n",
    "\n",
    "from rec_lib.utils import reduce_mem_usage, set_target, customers_prep, articles_prep, df_lvl2_prep, top_12_recs\n",
    "from rec_lib.utils import get_features, get_preds_result, col_convert_int\n",
    "from rec_lib.models import get_lvl2_model_validation_preds, get_lvl2_model_validation_LGBM_preds\n",
    "from rec_lib.metrics import precision_at_k, ap_k, recall, recall_at_k\n",
    "\n",
    "import warnings\n",
    "warnings.filterwarnings(\"ignore\")"
   ]
  },
  {
   "cell_type": "code",
   "execution_count": 2,
   "id": "010f949d",
   "metadata": {},
   "outputs": [],
   "source": [
    "%load_ext autoreload\n",
    "%autoreload 2"
   ]
  },
  {
   "cell_type": "markdown",
   "id": "e4503dd6",
   "metadata": {},
   "source": [
    "### Загрузка данных"
   ]
  },
  {
   "cell_type": "code",
   "execution_count": 3,
   "id": "3eda307f",
   "metadata": {},
   "outputs": [
    {
     "name": "stdout",
     "output_type": "stream",
     "text": [
      "CPU times: user 7.18 s, sys: 2.17 s, total: 9.35 s\n",
      "Wall time: 4.55 s\n"
     ]
    }
   ],
   "source": [
    "%%time\n",
    "result = pd.read_parquet('archive/validation_result.parquet')\n",
    "customers = pd.read_parquet('archive/customers.parquet')\n",
    "articles = pd.read_parquet('archive/articles.parquet')\n",
    "transactions = pd.read_parquet('archive/transactions_train_for_power_bi.parquet')"
   ]
  },
  {
   "cell_type": "markdown",
   "id": "63f4118f",
   "metadata": {},
   "source": [
    "### Подготовка данных"
   ]
  },
  {
   "cell_type": "code",
   "execution_count": 4,
   "id": "f593b82f",
   "metadata": {},
   "outputs": [
    {
     "name": "stdout",
     "output_type": "stream",
     "text": [
      "CPU times: user 1.68 s, sys: 188 ms, total: 1.86 s\n",
      "Wall time: 1.85 s\n"
     ]
    }
   ],
   "source": [
    "%%time\n",
    "# преобразование датафрейма пользователей\n",
    "customers = customers_prep(customers)"
   ]
  },
  {
   "cell_type": "code",
   "execution_count": 5,
   "id": "39d00cf4",
   "metadata": {},
   "outputs": [
    {
     "name": "stdout",
     "output_type": "stream",
     "text": [
      "CPU times: user 31.4 ms, sys: 30.7 ms, total: 62.1 ms\n",
      "Wall time: 60.8 ms\n"
     ]
    }
   ],
   "source": [
    "%%time\n",
    "# преобразование датафрейма категорий\n",
    "articles = articles_prep(articles)"
   ]
  },
  {
   "cell_type": "markdown",
   "id": "61c47d65",
   "metadata": {},
   "source": [
    "### Собираем датафрейм для обучения модели 2го уровня"
   ]
  },
  {
   "cell_type": "code",
   "execution_count": 6,
   "id": "58f36b47",
   "metadata": {},
   "outputs": [
    {
     "name": "stdout",
     "output_type": "stream",
     "text": [
      "CPU times: user 1min 33s, sys: 8.96 s, total: 1min 42s\n",
      "Wall time: 1min 41s\n"
     ]
    }
   ],
   "source": [
    "%%time\n",
    "# добавим нужные признаки \n",
    "result = df_lvl2_prep(result)"
   ]
  },
  {
   "cell_type": "code",
   "execution_count": 7,
   "id": "11356b76",
   "metadata": {},
   "outputs": [
    {
     "name": "stdout",
     "output_type": "stream",
     "text": [
      "CPU times: user 23.5 s, sys: 9.26 s, total: 32.8 s\n",
      "Wall time: 32.8 s\n"
     ]
    }
   ],
   "source": [
    "%%time\n",
    "# добавляем данные из датафремов покупателей и категорий\n",
    "result = result.merge(customers, on='customer_id', how='left')\n",
    "result = result.merge(articles, on='article_id', how='left')"
   ]
  },
  {
   "cell_type": "code",
   "execution_count": 8,
   "id": "57cd2b5d",
   "metadata": {},
   "outputs": [
    {
     "data": {
      "text/plain": [
       "0"
      ]
     },
     "execution_count": 8,
     "metadata": {},
     "output_type": "execute_result"
    }
   ],
   "source": [
    "del customers;\n",
    "del articles;\n",
    "gc.collect()"
   ]
  },
  {
   "cell_type": "markdown",
   "id": "5bb30620",
   "metadata": {},
   "source": [
    "### Добавляем фичи\n",
    "Добавляем следующие фичи:\n",
    "1. сумма продаж по категориям товаров\n",
    "2. средняя сумма покупок по категориям товаров\n",
    "3. количество заказов покупателя с товарами категории\n",
    "4. количество единиц товаров категории, приобретенное покупателем\n",
    "5. сумма покупок покупателя по категории\n",
    "6. средний чек покупателя по категории\n",
    "7. общая сумма покупок покупателя\n",
    "8. средний чек покупателя"
   ]
  },
  {
   "cell_type": "code",
   "execution_count": 9,
   "id": "3c34c2f5",
   "metadata": {},
   "outputs": [
    {
     "name": "stdout",
     "output_type": "stream",
     "text": [
      "CPU times: user 3min 43s, sys: 1min 57s, total: 5min 41s\n",
      "Wall time: 5min 42s\n"
     ]
    }
   ],
   "source": [
    "%%time\n",
    "result = get_features(result, transactions)"
   ]
  },
  {
   "cell_type": "markdown",
   "id": "71d71a14",
   "metadata": {},
   "source": [
    "#### Выбираем фичи для модели"
   ]
  },
  {
   "cell_type": "code",
   "execution_count": 10,
   "id": "30419e4d",
   "metadata": {},
   "outputs": [],
   "source": [
    "# все используемые фичи\n",
    "features = list(result)\n",
    "features.remove('target')\n",
    "features.remove('customer_id')\n",
    "features.remove('article_id')\n",
    "\n",
    "# категориальные фичи\n",
    "cat_feats = features.copy()\n",
    "cat_feats.remove('age')\n",
    "cat_feats.remove('customer_id_short')\n",
    "cat_feats.remove('article_id_short')"
   ]
  },
  {
   "cell_type": "code",
   "execution_count": 11,
   "id": "380a3cd7",
   "metadata": {},
   "outputs": [],
   "source": [
    "# убираем из категариальных фичей новые численные\n",
    "cat_feats.remove('articles_buy_sum')\n",
    "cat_feats.remove('articles_buy_avg')\n",
    "\n",
    "cat_feats.remove('customers_articles_num_sum')\n",
    "cat_feats.remove('customers_articles_num_count')\n",
    "\n",
    "cat_feats.remove('customers_articles_sum')\n",
    "cat_feats.remove('customers_articles_avg')\n",
    "\n",
    "cat_feats.remove('customers_spent_sum')\n",
    "cat_feats.remove('customers_spent_avg')"
   ]
  },
  {
   "cell_type": "markdown",
   "id": "6b6ff8c9",
   "metadata": {},
   "source": [
    "### Предсказания моделей CatBoost и их оценка"
   ]
  },
  {
   "cell_type": "code",
   "execution_count": 13,
   "id": "fd965d7f",
   "metadata": {},
   "outputs": [
    {
     "name": "stdout",
     "output_type": "stream",
     "text": [
      "Получаем предсказания для возрастной группы 16-24\n",
      "Получаем предсказания для возрастной группы 25-44\n",
      "Получаем предсказания для возрастной группы 45-64\n",
      "Получаем предсказания для возрастной группы 65-96\n",
      "CPU times: user 4min 43s, sys: 48.3 s, total: 5min 32s\n",
      "Wall time: 4min 53s\n"
     ]
    }
   ],
   "source": [
    "%%time\n",
    "customers_id, article_id, target, preds = get_lvl2_model_validation_preds(result, features, cat_feats)"
   ]
  },
  {
   "cell_type": "code",
   "execution_count": 14,
   "id": "faf3a9bc",
   "metadata": {},
   "outputs": [
    {
     "name": "stdout",
     "output_type": "stream",
     "text": [
      "CPU times: user 29.2 s, sys: 755 ms, total: 29.9 s\n",
      "Wall time: 29.5 s\n"
     ]
    }
   ],
   "source": [
    "%%time\n",
    "# построение датафрейма для получения оценок предсказаний модели\n",
    "filename = 'validation_result'\n",
    "result_test = get_preds_result(customers_id, article_id, target, preds, filename)"
   ]
  },
  {
   "cell_type": "code",
   "execution_count": 15,
   "id": "307a9ce2",
   "metadata": {},
   "outputs": [
    {
     "name": "stdout",
     "output_type": "stream",
     "text": [
      "Recall_own_rec_12 :  0.18249524913668436\n"
     ]
    }
   ],
   "source": [
    "print('Recall_own_rec_12 : ', result_test.apply(lambda row: recall(row['top_12_recs'], row['actual_article_id_short']), axis=1).mean())"
   ]
  },
  {
   "cell_type": "code",
   "execution_count": 16,
   "id": "32433591",
   "metadata": {},
   "outputs": [
    {
     "name": "stdout",
     "output_type": "stream",
     "text": [
      "MAP_own_rec_12 :  0.029444920226172573\n"
     ]
    }
   ],
   "source": [
    "print('MAP_own_rec_12 : ', result_test.apply(lambda row: ap_k(row['top_12_recs'], row['actual_article_id_short'], 12), axis=1).mean())"
   ]
  },
  {
   "cell_type": "markdown",
   "id": "96c2f0ab",
   "metadata": {},
   "source": [
    "### Предсказания моделей LGBM и их оценка"
   ]
  },
  {
   "cell_type": "code",
   "execution_count": 43,
   "id": "e7f027be",
   "metadata": {},
   "outputs": [],
   "source": [
    "# преобразуем тип данных поля age для модели LGBM\n",
    "# result['age'] = result.apply(lambda row: col_convert_int(row['age']), axis=1)"
   ]
  },
  {
   "cell_type": "code",
   "execution_count": 44,
   "id": "aba14855",
   "metadata": {},
   "outputs": [
    {
     "name": "stdout",
     "output_type": "stream",
     "text": [
      "Получаем предсказания для возрастной группы 16-24\n",
      "Получаем предсказания для возрастной группы 25-44\n",
      "Получаем предсказания для возрастной группы 45-64\n",
      "Получаем предсказания для возрастной группы 65-96\n",
      "CPU times: user 46min 13s, sys: 52.5 s, total: 47min 6s\n",
      "Wall time: 7min 29s\n"
     ]
    }
   ],
   "source": [
    "%%time\n",
    "customers_id, article_id, target, preds = get_lvl2_model_validation_LGBM_preds(result, features, cat_feats)"
   ]
  },
  {
   "cell_type": "code",
   "execution_count": 45,
   "id": "9b7b464b",
   "metadata": {},
   "outputs": [
    {
     "name": "stdout",
     "output_type": "stream",
     "text": [
      "CPU times: user 24 s, sys: 690 ms, total: 24.7 s\n",
      "Wall time: 28.1 s\n"
     ]
    }
   ],
   "source": [
    "%%time\n",
    "# построение датафрейма для получения оценок предсказаний модели\n",
    "filename = 'validation_result'\n",
    "result_test = get_preds_result(customers_id, article_id, target, preds, filename)"
   ]
  },
  {
   "cell_type": "code",
   "execution_count": 46,
   "id": "e308b25b",
   "metadata": {},
   "outputs": [
    {
     "name": "stdout",
     "output_type": "stream",
     "text": [
      "Recall_own_rec_12 :  0.18500239150603634\n"
     ]
    }
   ],
   "source": [
    "print('Recall_own_rec_12 : ', result_test.apply(lambda row: recall(row['top_12_recs'], row['actual_article_id_short']), axis=1).mean())"
   ]
  },
  {
   "cell_type": "code",
   "execution_count": 47,
   "id": "9ddc6211",
   "metadata": {},
   "outputs": [
    {
     "name": "stdout",
     "output_type": "stream",
     "text": [
      "MAP_own_rec_12 :  0.029709670353044688\n"
     ]
    }
   ],
   "source": [
    "print('MAP_own_rec_12 : ', result_test.apply(lambda row: ap_k(row['top_12_recs'], row['actual_article_id_short'], 12), axis=1).mean())"
   ]
  },
  {
   "cell_type": "code",
   "execution_count": null,
   "id": "6e953303",
   "metadata": {},
   "outputs": [],
   "source": []
  }
 ],
 "metadata": {
  "kernelspec": {
   "display_name": "Python 3 (ipykernel)",
   "language": "python",
   "name": "python3"
  },
  "language_info": {
   "codemirror_mode": {
    "name": "ipython",
    "version": 3
   },
   "file_extension": ".py",
   "mimetype": "text/x-python",
   "name": "python",
   "nbconvert_exporter": "python",
   "pygments_lexer": "ipython3",
   "version": "3.9.15"
  }
 },
 "nbformat": 4,
 "nbformat_minor": 5
}
