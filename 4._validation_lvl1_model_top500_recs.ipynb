{
 "cells": [
  {
   "cell_type": "code",
   "execution_count": 1,
   "id": "b3b1eac7",
   "metadata": {},
   "outputs": [],
   "source": [
    "import pandas as pd\n",
    "import numpy as np\n",
    "\n",
    "from numba import jit, typeof, typed, types, prange\n",
    "\n",
    "from implicit.gpu.als import AlternatingLeastSquares\n",
    "from implicit.nearest_neighbours import ItemItemRecommender\n",
    "from implicit.nearest_neighbours import bm25_weight, tfidf_weight\n",
    "\n",
    "from scipy.sparse import csr_matrix, coo_matrix\n",
    "\n",
    "from rec_lib.utils import get_recommendations, get_sim_users, col_convert\n",
    "from rec_lib.metrics import recall, recall_at_k, precision_at_k, ap_k\n",
    "\n",
    "import warnings\n",
    "warnings.filterwarnings(\"ignore\")"
   ]
  },
  {
   "cell_type": "code",
   "execution_count": 2,
   "id": "010f949d",
   "metadata": {},
   "outputs": [],
   "source": [
    "%load_ext autoreload\n",
    "%autoreload 2"
   ]
  },
  {
   "cell_type": "markdown",
   "id": "e4503dd6",
   "metadata": {},
   "source": [
    "### Загрузим данные и разделим на train/test и validation"
   ]
  },
  {
   "cell_type": "code",
   "execution_count": 3,
   "id": "3eda307f",
   "metadata": {},
   "outputs": [],
   "source": [
    "df_transactions = pd.read_parquet('archive/transactions_train_for_power_bi.parquet')"
   ]
  },
  {
   "cell_type": "code",
   "execution_count": 4,
   "id": "39d00cf4",
   "metadata": {},
   "outputs": [],
   "source": [
    "test = df_transactions.loc[df_transactions['week_number'] == 104]\n",
    "train = df_transactions.loc[df_transactions['week_number'] < 104]"
   ]
  },
  {
   "cell_type": "code",
   "execution_count": 5,
   "id": "bf6043a0",
   "metadata": {},
   "outputs": [
    {
     "name": "stdout",
     "output_type": "stream",
     "text": [
      "CPU times: user 13.6 s, sys: 1.67 s, total: 15.2 s\n",
      "Wall time: 15.2 s\n"
     ]
    }
   ],
   "source": [
    "%%time\n",
    "train = train.sort_values(['customer_id_short', 'article_id_short']).reset_index(drop = True)"
   ]
  },
  {
   "cell_type": "code",
   "execution_count": 6,
   "id": "b735f6b5",
   "metadata": {},
   "outputs": [
    {
     "name": "stdout",
     "output_type": "stream",
     "text": [
      "В трейне - 1349836 покупателей\n",
      "В тесте - 66499 покупателей\n",
      "Покупателей из теста нет в трейне - 5142\n"
     ]
    }
   ],
   "source": [
    "# Проверим сколько пользователей из трейна отсутствует в тесте\n",
    "print(f\"В трейне - {len(set(train['customer_id_short']))} покупателей\\n\\\n",
    "В тесте - {len(set(test['customer_id_short']))} покупателей\\n\\\n",
    "Покупателей из теста нет в трейне - {len(set(test['customer_id_short']) - set(train['customer_id_short']))}\")"
   ]
  },
  {
   "cell_type": "code",
   "execution_count": 7,
   "id": "9adee178",
   "metadata": {},
   "outputs": [],
   "source": [
    "# Создадим df в котором будут фактические данные теста, сюда потом добавим предсказания\n",
    "result = test.groupby('customer_id_short')['article_id_short'].unique().reset_index()\n",
    "result.columns=['customer_id_short', 'actual_article_id_short']"
   ]
  },
  {
   "cell_type": "code",
   "execution_count": 8,
   "id": "feb8a615",
   "metadata": {},
   "outputs": [],
   "source": [
    "# получаем датафрейм топ категорий предыдущей недели\n",
    "top_week_num = train.loc[train['week_number'] == train['week_number'].max()]['week_number_of_year'].max()\n",
    "\n",
    "sim_weeks_articles = train.loc[train['week_number_of_year'].isin([top_week_num])]\n",
    "sim_weeks_articles = sim_weeks_articles.groupby('article_id_short')['values'].sum().reset_index()\n",
    "sim_weeks_articles = sim_weeks_articles.sort_values('values', ascending=False)"
   ]
  },
  {
   "cell_type": "code",
   "execution_count": 9,
   "id": "c001caad",
   "metadata": {},
   "outputs": [],
   "source": [
    "# получаем numba list топ категорий предыдущей недели\n",
    "K = 1300 # количество популярных категорий предыдущей недели\n",
    "top_sim_weeks_articles_nb = typed.List(set(sim_weeks_articles.iloc[:K]['article_id_short'].values))"
   ]
  },
  {
   "cell_type": "code",
   "execution_count": 10,
   "id": "7d524198",
   "metadata": {},
   "outputs": [
    {
     "name": "stdout",
     "output_type": "stream",
     "text": [
      "CPU times: user 709 ms, sys: 130 ms, total: 839 ms\n",
      "Wall time: 838 ms\n"
     ]
    }
   ],
   "source": [
    "%%time\n",
    "# создаем массив использованных article_id\n",
    "used_article_id_short = sorted(np.array(train['article_id_short'].unique()))\n",
    "article_id_for_dict = np.arange(0,len(used_article_id_short))\n",
    "\n",
    "# Создаем справочники users и items для более быстрой работы кода\n",
    "used_itemid_to_id = dict(zip(used_article_id_short, article_id_for_dict))\n",
    "id_to_used_itemid = dict(zip(article_id_for_dict, used_article_id_short))\n",
    "\n",
    "\n",
    "# создаем массив использованных customer_id_short\n",
    "used_user_id_short = sorted(np.array(train['customer_id_short'].unique()))\n",
    "user_id_for_dict = np.arange(0,len(used_user_id_short))\n",
    "\n",
    "# Создаем справочники users и items для более быстрой работы кода\n",
    "used_userid_to_id = dict(zip(used_user_id_short, user_id_for_dict))\n",
    "id_to_used_userid = dict(zip(user_id_for_dict, used_user_id_short))"
   ]
  },
  {
   "cell_type": "code",
   "execution_count": 11,
   "id": "701b04e0",
   "metadata": {},
   "outputs": [
    {
     "name": "stdout",
     "output_type": "stream",
     "text": [
      "CPU times: user 927 ms, sys: 0 ns, total: 927 ms\n",
      "Wall time: 925 ms\n"
     ]
    }
   ],
   "source": [
    "%%time\n",
    "# numba dict for recommeddation\n",
    "id_to_used_itemid_nb = typed.Dict.empty(types.int64,types.int64)\n",
    "\n",
    "for k, v in id_to_used_itemid.items():\n",
    "    id_to_used_itemid_nb[k] = v"
   ]
  },
  {
   "cell_type": "markdown",
   "id": "10b9ec25",
   "metadata": {},
   "source": [
    "### Подготовим данные для построения моделей 1го уровня"
   ]
  },
  {
   "cell_type": "code",
   "execution_count": 12,
   "id": "3d4e2993",
   "metadata": {},
   "outputs": [
    {
     "name": "stdout",
     "output_type": "stream",
     "text": [
      "CPU times: user 10.6 s, sys: 341 ms, total: 10.9 s\n",
      "Wall time: 10.9 s\n"
     ]
    }
   ],
   "source": [
    "%%time\n",
    "# получаем массивы для построения разряженной матрицы по координатам ненулевых элементов\n",
    "user_id_short_arr_for_matrix = train.customer_id_short.values\n",
    "user_id_short_arr_for_matrix = np.array([used_userid_to_id[el] for el in user_id_short_arr_for_matrix])\n",
    "\n",
    "article_id_short_arr_for_matrix = train.article_id_short.values\n",
    "article_id_short_arr_for_matrix = np.array([used_itemid_to_id[el] for el in article_id_short_arr_for_matrix])\n",
    "\n",
    "article_user_counter_for_matrix = train['values'].values.astype(np.float64)"
   ]
  },
  {
   "cell_type": "code",
   "execution_count": 13,
   "id": "3a7fe2bd",
   "metadata": {},
   "outputs": [
    {
     "name": "stdout",
     "output_type": "stream",
     "text": [
      "CPU times: user 190 ms, sys: 70.5 ms, total: 261 ms\n",
      "Wall time: 260 ms\n"
     ]
    }
   ],
   "source": [
    "%%time\n",
    "# Создаем разряженную матриуц по координатам ненулевых элементов\n",
    "coo = coo_matrix((article_user_counter_for_matrix, (user_id_short_arr_for_matrix, article_id_short_arr_for_matrix)))"
   ]
  },
  {
   "cell_type": "code",
   "execution_count": 14,
   "id": "b79b0b72",
   "metadata": {},
   "outputs": [],
   "source": [
    "# Приведем матрицу в нужный формат для модели и произведем взвешивание bm25\n",
    "custom_sparse_user_item = csr_matrix(coo).tocsr()\n",
    "custom_bm25_user_item_matrix = bm25_weight(custom_sparse_user_item.T).T.tocsr()"
   ]
  },
  {
   "cell_type": "code",
   "execution_count": 15,
   "id": "60fd6363",
   "metadata": {},
   "outputs": [
    {
     "name": "stdout",
     "output_type": "stream",
     "text": [
      "CPU times: user 2min 3s, sys: 518 ms, total: 2min 4s\n",
      "Wall time: 2min 4s\n"
     ]
    }
   ],
   "source": [
    "%%time\n",
    "\n",
    "# ALS модель на GPU\n",
    "als = AlternatingLeastSquares(factors=60,\n",
    "                regularization=0.8,\n",
    "                iterations=3,\n",
    "                calculate_training_loss=True,\n",
    "                random_state=42)\n",
    "\n",
    "als.fit(custom_bm25_user_item_matrix, show_progress=False)"
   ]
  },
  {
   "cell_type": "code",
   "execution_count": 16,
   "id": "08741e75",
   "metadata": {},
   "outputs": [
    {
     "name": "stdout",
     "output_type": "stream",
     "text": [
      "CPU times: user 51.3 s, sys: 5.23 s, total: 56.6 s\n",
      "Wall time: 5.99 s\n"
     ]
    }
   ],
   "source": [
    "%%time\n",
    "\n",
    "# Количество потоков процессора для обучения\n",
    "NUM_THREADS = 16\n",
    "\n",
    "# Own recommender\n",
    "own_recommender = ItemItemRecommender(K=1, num_threads=NUM_THREADS)\n",
    "own_recommender.fit(custom_sparse_user_item, show_progress=False)"
   ]
  },
  {
   "cell_type": "markdown",
   "id": "a35a986d",
   "metadata": {},
   "source": [
    "### Найдем похожих покупателей"
   ]
  },
  {
   "cell_type": "code",
   "execution_count": 17,
   "id": "56906dd7",
   "metadata": {},
   "outputs": [
    {
     "name": "stdout",
     "output_type": "stream",
     "text": [
      "CPU times: user 7min 1s, sys: 5.11 s, total: 7min 6s\n",
      "Wall time: 7min 6s\n"
     ]
    }
   ],
   "source": [
    "%%time\n",
    "# количество похожих покупателей\n",
    "N_USERS = 500\n",
    "\n",
    "result[f'sim_users'] = result['customer_id_short'].map(lambda x: get_sim_users(x, used_userid_to_id, id_to_used_userid, als, N_USERS))"
   ]
  },
  {
   "cell_type": "markdown",
   "id": "2de7d52e",
   "metadata": {},
   "source": [
    "### Получим рекомендации и их оценку"
   ]
  },
  {
   "cell_type": "code",
   "execution_count": 18,
   "id": "4efa10ce",
   "metadata": {},
   "outputs": [
    {
     "name": "stdout",
     "output_type": "stream",
     "text": [
      "CPU times: user 3h 7min 7s, sys: 4min, total: 3h 11min 7s\n",
      "Wall time: 3h 11min\n"
     ]
    }
   ],
   "source": [
    "%%time\n",
    "# rec before ranking\n",
    "N = 500\n",
    "\n",
    "result[f'own_rec'] = result.apply(lambda row: get_recommendations(row['customer_id_short'], row['sim_users'], als, own_recommender, used_userid_to_id, used_itemid_to_id, custom_sparse_user_item, id_to_used_itemid_nb, top_sim_weeks_articles_nb, N), axis=1)"
   ]
  },
  {
   "cell_type": "code",
   "execution_count": 19,
   "id": "eb0373cc",
   "metadata": {},
   "outputs": [
    {
     "name": "stdout",
     "output_type": "stream",
     "text": [
      "Recall_own_rec:  0.19289906965393644\n"
     ]
    }
   ],
   "source": [
    "print('Recall_own_rec: ', result.apply(lambda row: recall(row['own_rec'], row['actual_article_id_short']), axis=1).mean())"
   ]
  },
  {
   "cell_type": "code",
   "execution_count": 21,
   "id": "49efbc97",
   "metadata": {},
   "outputs": [
    {
     "name": "stdout",
     "output_type": "stream",
     "text": [
      "CPU times: user 13.5 s, sys: 1.35 s, total: 14.9 s\n",
      "Wall time: 14.9 s\n"
     ]
    }
   ],
   "source": [
    "%%time\n",
    "# преобразуем тип данных колонок для возможности сохранения в формате parquet\n",
    "result[f'actual_article_id_short'] = result.apply(lambda row: col_convert(row['actual_article_id_short']), axis=1)\n",
    "result[f'sim_users'] = result.apply(lambda row: col_convert(row['sim_users']), axis=1)\n",
    "result[f'own_rec'] = result.apply(lambda row: col_convert(row['own_rec']), axis=1)"
   ]
  },
  {
   "cell_type": "code",
   "execution_count": 22,
   "id": "9edc8fa5",
   "metadata": {},
   "outputs": [],
   "source": [
    "# сохраняем в формате parquet\n",
    "result.to_parquet('archive/validation_result.parquet')"
   ]
  }
 ],
 "metadata": {
  "kernelspec": {
   "display_name": "Python 3 (ipykernel)",
   "language": "python",
   "name": "python3"
  },
  "language_info": {
   "codemirror_mode": {
    "name": "ipython",
    "version": 3
   },
   "file_extension": ".py",
   "mimetype": "text/x-python",
   "name": "python",
   "nbconvert_exporter": "python",
   "pygments_lexer": "ipython3",
   "version": "3.9.15"
  }
 },
 "nbformat": 4,
 "nbformat_minor": 5
}
