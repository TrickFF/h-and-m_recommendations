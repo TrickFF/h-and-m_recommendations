{
 "cells": [
  {
   "cell_type": "code",
   "execution_count": 1,
   "id": "e80f0f92",
   "metadata": {},
   "outputs": [],
   "source": [
    "import pandas as pd\n",
    "import numpy as np\n",
    "import gc\n",
    "\n",
    "from rec_lib.utils import reduce_mem_usage, set_target, customers_prep, articles_prep, df_lvl2_prep, top_12_recs\n",
    "from rec_lib.utils import get_features, get_preds_result, col_convert_int\n",
    "from rec_lib.models import get_lvl2_model_preds, get_lvl2_LGBM_model_preds\n",
    "from rec_lib.metrics import precision_at_k, ap_k, recall, recall_at_k\n",
    "\n",
    "import warnings\n",
    "warnings.filterwarnings(\"ignore\")"
   ]
  },
  {
   "cell_type": "code",
   "execution_count": 2,
   "id": "cd5c40cd",
   "metadata": {},
   "outputs": [],
   "source": [
    "%load_ext autoreload\n",
    "%autoreload 2"
   ]
  },
  {
   "cell_type": "markdown",
   "id": "71eec48d",
   "metadata": {},
   "source": [
    "### Загрузка данных"
   ]
  },
  {
   "cell_type": "code",
   "execution_count": 3,
   "id": "f91a6c87",
   "metadata": {},
   "outputs": [
    {
     "name": "stdout",
     "output_type": "stream",
     "text": [
      "CPU times: user 7.39 s, sys: 2.61 s, total: 10 s\n",
      "Wall time: 5.38 s\n"
     ]
    }
   ],
   "source": [
    "%%time\n",
    "result = pd.read_parquet('archive/result.parquet')\n",
    "customers = pd.read_parquet('archive/customers.parquet')\n",
    "articles = pd.read_parquet('archive/articles.parquet')\n",
    "transactions = pd.read_parquet('archive/transactions_train_for_power_bi.parquet')"
   ]
  },
  {
   "cell_type": "markdown",
   "id": "67c506e0",
   "metadata": {},
   "source": [
    "### Подготовка данных"
   ]
  },
  {
   "cell_type": "code",
   "execution_count": 4,
   "id": "c18dfdfc",
   "metadata": {},
   "outputs": [
    {
     "name": "stdout",
     "output_type": "stream",
     "text": [
      "CPU times: user 1.65 s, sys: 139 ms, total: 1.79 s\n",
      "Wall time: 1.77 s\n"
     ]
    }
   ],
   "source": [
    "%%time\n",
    "# преобразование датафрейма пользователей\n",
    "customers = customers_prep(customers)"
   ]
  },
  {
   "cell_type": "code",
   "execution_count": 5,
   "id": "9f89d6c0",
   "metadata": {},
   "outputs": [
    {
     "name": "stdout",
     "output_type": "stream",
     "text": [
      "CPU times: user 62.3 ms, sys: 10.7 ms, total: 73 ms\n",
      "Wall time: 71.9 ms\n"
     ]
    }
   ],
   "source": [
    "%%time\n",
    "# преобразование датафрейма категорий\n",
    "articles = articles_prep(articles)"
   ]
  },
  {
   "cell_type": "markdown",
   "id": "da6bb355",
   "metadata": {},
   "source": [
    "### Собираем датафрейм для обучения модели 2го уровня"
   ]
  },
  {
   "cell_type": "code",
   "execution_count": 6,
   "id": "155bec65",
   "metadata": {},
   "outputs": [
    {
     "name": "stdout",
     "output_type": "stream",
     "text": [
      "CPU times: user 1min 47s, sys: 9.37 s, total: 1min 56s\n",
      "Wall time: 1min 55s\n"
     ]
    }
   ],
   "source": [
    "%%time\n",
    "# добавим нужные признаки \n",
    "result = df_lvl2_prep(result)"
   ]
  },
  {
   "cell_type": "code",
   "execution_count": 7,
   "id": "ed4aa27a",
   "metadata": {},
   "outputs": [
    {
     "name": "stdout",
     "output_type": "stream",
     "text": [
      "CPU times: user 28.7 s, sys: 11.6 s, total: 40.3 s\n",
      "Wall time: 40.3 s\n"
     ]
    }
   ],
   "source": [
    "%%time\n",
    "# добавляем данные из датафремов покупателей и категорий\n",
    "result = result.merge(customers, on='customer_id', how='left')\n",
    "result = result.merge(articles, on='article_id', how='left')"
   ]
  },
  {
   "cell_type": "code",
   "execution_count": 8,
   "id": "e85aa3db",
   "metadata": {},
   "outputs": [
    {
     "data": {
      "text/plain": [
       "0"
      ]
     },
     "execution_count": 8,
     "metadata": {},
     "output_type": "execute_result"
    }
   ],
   "source": [
    "del customers;\n",
    "del articles;\n",
    "gc.collect()"
   ]
  },
  {
   "cell_type": "markdown",
   "id": "ec555acd",
   "metadata": {},
   "source": [
    "### Добавляем фичи\n",
    "Добавляем следующие фичи:\n",
    "1. сумма продаж по категориям товаров\n",
    "2. средняя сумма покупок по категориям товаров\n",
    "3. количество заказов покупателя с товарами категории\n",
    "4. количество единиц товаров категории, приобретенное покупателем\n",
    "5. сумма покупок покупателя по категории\n",
    "6. средний чек покупателя по категории\n",
    "7. общая сумма покупок покупателя\n",
    "8. средний чек покупателя"
   ]
  },
  {
   "cell_type": "code",
   "execution_count": 9,
   "id": "5170d316",
   "metadata": {},
   "outputs": [
    {
     "name": "stdout",
     "output_type": "stream",
     "text": [
      "CPU times: user 4min 17s, sys: 2min 11s, total: 6min 29s\n",
      "Wall time: 6min 42s\n"
     ]
    }
   ],
   "source": [
    "%%time\n",
    "result = get_features(result, transactions)"
   ]
  },
  {
   "cell_type": "markdown",
   "id": "c8185c32",
   "metadata": {},
   "source": [
    "#### Выбираем фичи для модели"
   ]
  },
  {
   "cell_type": "code",
   "execution_count": 10,
   "id": "efe77430",
   "metadata": {},
   "outputs": [],
   "source": [
    "# все используемые фичи\n",
    "features = list(result)\n",
    "features.remove('target')\n",
    "features.remove('customer_id')\n",
    "features.remove('article_id')\n",
    "\n",
    "# категориальные фичи\n",
    "cat_feats = features.copy()\n",
    "cat_feats.remove('age')\n",
    "cat_feats.remove('customer_id_short')\n",
    "cat_feats.remove('article_id_short')"
   ]
  },
  {
   "cell_type": "code",
   "execution_count": 11,
   "id": "4ca472da",
   "metadata": {},
   "outputs": [],
   "source": [
    "# убираем из категариальных фичей новые численные\n",
    "cat_feats.remove('articles_buy_sum')\n",
    "cat_feats.remove('articles_buy_avg')\n",
    "\n",
    "cat_feats.remove('customers_articles_num_sum')\n",
    "cat_feats.remove('customers_articles_num_count')\n",
    "\n",
    "cat_feats.remove('customers_articles_sum')\n",
    "cat_feats.remove('customers_articles_avg')\n",
    "\n",
    "cat_feats.remove('customers_spent_sum')\n",
    "cat_feats.remove('customers_spent_avg')"
   ]
  },
  {
   "cell_type": "markdown",
   "id": "af10c797",
   "metadata": {},
   "source": [
    "### Построение моделей и получение топ12 рекомендаций\n",
    "Построим следующие модели классификаторов:\n",
    "- model 1 - покупатели до 24 лет. Молодые люди с невысокой покупательной способностью, несформировавшимися окончательно привычками, без сильного влияния детей.\n",
    "- model 2 - покупатели 25-44 года. Платежеспособные люди с устоявшимися привычками и существенным влиянием детей на выбор товаров.\n",
    "- model 3 - покупатели 45-64 года. Платежеспособные люди с устоявшимися привычками и уже без сильного влияния детей на выбор товаров.\n",
    "- model 4 - покупатели старше 65 лет. Люди пенсионного возраста с устоявшимися привычками, но невысокой покупательной способностью."
   ]
  },
  {
   "cell_type": "markdown",
   "id": "cf258cd9",
   "metadata": {},
   "source": [
    "### Предсказания моделей CatBoost и их оценка"
   ]
  },
  {
   "cell_type": "code",
   "execution_count": 12,
   "id": "b8e0ec46",
   "metadata": {
    "scrolled": true
   },
   "outputs": [
    {
     "name": "stdout",
     "output_type": "stream",
     "text": [
      "CPU times: user 5h 29min 47s, sys: 6min 26s, total: 5h 36min 13s\n",
      "Wall time: 24min 17s\n"
     ]
    }
   ],
   "source": [
    "%%time\n",
    "customers_id, article_id, target, preds = get_lvl2_model_preds(result, features, cat_feats)"
   ]
  },
  {
   "cell_type": "code",
   "execution_count": 13,
   "id": "9c3140d7",
   "metadata": {},
   "outputs": [
    {
     "name": "stdout",
     "output_type": "stream",
     "text": [
      "CPU times: user 36.3 s, sys: 1.43 s, total: 37.7 s\n",
      "Wall time: 37 s\n"
     ]
    }
   ],
   "source": [
    "%%time\n",
    "# построение датафрейма для получения оценок предсказаний модели\n",
    "filename = 'result'\n",
    "result_test = get_preds_result(customers_id, article_id, target, preds, filename)"
   ]
  },
  {
   "cell_type": "code",
   "execution_count": 14,
   "id": "364eb0a5",
   "metadata": {},
   "outputs": [
    {
     "name": "stdout",
     "output_type": "stream",
     "text": [
      "Recall_own_rec_12 :  0.184025864929925\n"
     ]
    }
   ],
   "source": [
    "print('Recall_own_rec_12 : ', result_test.apply(lambda row: recall(row['top_12_recs'], row['actual_article_id_short']), axis=1).mean())"
   ]
  },
  {
   "cell_type": "code",
   "execution_count": 15,
   "id": "ad0c1d09",
   "metadata": {},
   "outputs": [
    {
     "name": "stdout",
     "output_type": "stream",
     "text": [
      "MAP_own_rec_12 :  0.033345297338786654\n"
     ]
    }
   ],
   "source": [
    "print('MAP_own_rec_12 : ', result_test.apply(lambda row: ap_k(row['top_12_recs'], row['actual_article_id_short'], 12), axis=1).mean())"
   ]
  },
  {
   "cell_type": "markdown",
   "id": "ac5b6012",
   "metadata": {},
   "source": [
    "### Предсказания моделей LGBM и их оценка"
   ]
  },
  {
   "cell_type": "code",
   "execution_count": 12,
   "id": "4f6ce750",
   "metadata": {},
   "outputs": [],
   "source": [
    "# преобразуем тип данных поля age для модели LGBM\n",
    "result['age'] = result.apply(lambda row: col_convert_int(row['age']), axis=1)"
   ]
  },
  {
   "cell_type": "code",
   "execution_count": 13,
   "id": "e942b85d",
   "metadata": {},
   "outputs": [
    {
     "name": "stdout",
     "output_type": "stream",
     "text": [
      "Обучаем модель для возрастной группы 16-24\n",
      "Обучаем модель для возрастной группы 25-44\n",
      "Обучаем модель для возрастной группы 45-64\n",
      "Обучаем модель для возрастной группы 65-96\n",
      "CPU times: user 2h 43min 25s, sys: 1min 13s, total: 2h 44min 39s\n",
      "Wall time: 12min 16s\n"
     ]
    }
   ],
   "source": [
    "%%time\n",
    "customers_id, article_id, target, preds = get_lvl2_LGBM_model_preds(result, features, cat_feats)"
   ]
  },
  {
   "cell_type": "code",
   "execution_count": 14,
   "id": "6bdb857c",
   "metadata": {},
   "outputs": [
    {
     "name": "stdout",
     "output_type": "stream",
     "text": [
      "CPU times: user 35.1 s, sys: 1.38 s, total: 36.5 s\n",
      "Wall time: 39.7 s\n"
     ]
    }
   ],
   "source": [
    "%%time\n",
    "# построение датафрейма для получения оценок предсказаний модели\n",
    "filename = 'result'\n",
    "result_test = get_preds_result(customers_id, article_id, target, preds, filename)"
   ]
  },
  {
   "cell_type": "code",
   "execution_count": 15,
   "id": "a02c915b",
   "metadata": {},
   "outputs": [
    {
     "name": "stdout",
     "output_type": "stream",
     "text": [
      "Recall_own_rec_12 :  0.1846590592006802\n"
     ]
    }
   ],
   "source": [
    "print('Recall_own_rec_12 : ', result_test.apply(lambda row: recall(row['top_12_recs'], row['actual_article_id_short']), axis=1).mean())"
   ]
  },
  {
   "cell_type": "code",
   "execution_count": 16,
   "id": "3a796bb0",
   "metadata": {},
   "outputs": [
    {
     "name": "stdout",
     "output_type": "stream",
     "text": [
      "MAP_own_rec_12 :  0.036161399028503224\n"
     ]
    }
   ],
   "source": [
    "print('MAP_own_rec_12 : ', result_test.apply(lambda row: ap_k(row['top_12_recs'], row['actual_article_id_short'], 12), axis=1).mean())"
   ]
  },
  {
   "cell_type": "code",
   "execution_count": null,
   "id": "d2c33d94",
   "metadata": {},
   "outputs": [],
   "source": []
  }
 ],
 "metadata": {
  "kernelspec": {
   "display_name": "Python 3 (ipykernel)",
   "language": "python",
   "name": "python3"
  },
  "language_info": {
   "codemirror_mode": {
    "name": "ipython",
    "version": 3
   },
   "file_extension": ".py",
   "mimetype": "text/x-python",
   "name": "python",
   "nbconvert_exporter": "python",
   "pygments_lexer": "ipython3",
   "version": "3.9.15"
  }
 },
 "nbformat": 4,
 "nbformat_minor": 5
}
